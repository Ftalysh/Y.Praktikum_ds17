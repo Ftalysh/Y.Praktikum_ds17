{
 "cells": [
  {
   "cell_type": "markdown",
   "metadata": {
    "toc": true
   },
   "source": [
    "<h1>Содержание<span class=\"tocSkip\"></span></h1>\n",
    "<div class=\"toc\"><ul class=\"toc-item\"><li><span><a href=\"#Описание-проекта\" data-toc-modified-id=\"Описание-проекта-1\"><span class=\"toc-item-num\">1&nbsp;&nbsp;</span>Описание проекта</a></span></li><li><span><a href=\"#Ход-проекта\" data-toc-modified-id=\"Ход-проекта-2\"><span class=\"toc-item-num\">2&nbsp;&nbsp;</span>Ход проекта</a></span><ul class=\"toc-item\"><li><span><a href=\"#Импортирование-библиотек-и-знакомство-с-данными\" data-toc-modified-id=\"Импортирование-библиотек-и-знакомство-с-данными-2.1\"><span class=\"toc-item-num\">2.1&nbsp;&nbsp;</span>Импортирование библиотек и знакомство с данными</a></span></li><li><span><a href=\"#Предобработка-данных\" data-toc-modified-id=\"Предобработка-данных-2.2\"><span class=\"toc-item-num\">2.2&nbsp;&nbsp;</span>Предобработка данных</a></span><ul class=\"toc-item\"><li><span><a href=\"#Поиск-пропущенных-значений\" data-toc-modified-id=\"Поиск-пропущенных-значений-2.2.1\"><span class=\"toc-item-num\">2.2.1&nbsp;&nbsp;</span>Поиск пропущенных значений</a></span></li><li><span><a href=\"#Обработка-столбца-last_price\" data-toc-modified-id=\"Обработка-столбца-last_price-2.2.2\"><span class=\"toc-item-num\">2.2.2&nbsp;&nbsp;</span>Обработка столбца last_price</a></span></li><li><span><a href=\"#Обработка-столбца-is_apartment\" data-toc-modified-id=\"Обработка-столбца-is_apartment-2.2.3\"><span class=\"toc-item-num\">2.2.3&nbsp;&nbsp;</span>Обработка столбца is_apartment</a></span></li><li><span><a href=\"#Обработка-столбцов-parks_nearest,-ponds_nearest,-parks_around3000,-ponds_around3000\" data-toc-modified-id=\"Обработка-столбцов-parks_nearest,-ponds_nearest,-parks_around3000,-ponds_around3000-2.2.4\"><span class=\"toc-item-num\">2.2.4&nbsp;&nbsp;</span>Обработка столбцов parks_nearest, ponds_nearest, parks_around3000, ponds_around3000</a></span></li><li><span><a href=\"#Обработка-столбца-locality_name\" data-toc-modified-id=\"Обработка-столбца-locality_name-2.2.5\"><span class=\"toc-item-num\">2.2.5&nbsp;&nbsp;</span>Обработка столбца locality_name</a></span></li><li><span><a href=\"#Обработка-столбца-floors_total\" data-toc-modified-id=\"Обработка-столбца-floors_total-2.2.6\"><span class=\"toc-item-num\">2.2.6&nbsp;&nbsp;</span>Обработка столбца floors_total</a></span></li><li><span><a href=\"#Обработка-столбца-ceiling_height\" data-toc-modified-id=\"Обработка-столбца-ceiling_height-2.2.7\"><span class=\"toc-item-num\">2.2.7&nbsp;&nbsp;</span>Обработка столбца ceiling_height</a></span></li><li><span><a href=\"#Обработка-столбцов-cityCenters_nearest,-airports_nearest\" data-toc-modified-id=\"Обработка-столбцов-cityCenters_nearest,-airports_nearest-2.2.8\"><span class=\"toc-item-num\">2.2.8&nbsp;&nbsp;</span>Обработка столбцов cityCenters_nearest, airports_nearest</a></span></li><li><span><a href=\"#Обработка-столбца-days_exposition\" data-toc-modified-id=\"Обработка-столбца-days_exposition-2.2.9\"><span class=\"toc-item-num\">2.2.9&nbsp;&nbsp;</span>Обработка столбца days_exposition</a></span></li><li><span><a href=\"#Обработка-столбца-rooms\" data-toc-modified-id=\"Обработка-столбца-rooms-2.2.10\"><span class=\"toc-item-num\">2.2.10&nbsp;&nbsp;</span>Обработка столбца rooms</a></span></li><li><span><a href=\"#Обработка-столбца-total_area\" data-toc-modified-id=\"Обработка-столбца-total_area-2.2.11\"><span class=\"toc-item-num\">2.2.11&nbsp;&nbsp;</span>Обработка столбца total_area</a></span></li><li><span><a href=\"#Обработка-столбцов-kitchen_area-и-living_area\" data-toc-modified-id=\"Обработка-столбцов-kitchen_area-и-living_area-2.2.12\"><span class=\"toc-item-num\">2.2.12&nbsp;&nbsp;</span>Обработка столбцов kitchen_area и living_area</a></span></li><li><span><a href=\"#Обработка-столбца-balcony\" data-toc-modified-id=\"Обработка-столбца-balcony-2.2.13\"><span class=\"toc-item-num\">2.2.13&nbsp;&nbsp;</span>Обработка столбца balcony</a></span></li><li><span><a href=\"#Работа-с-типами-данных\" data-toc-modified-id=\"Работа-с-типами-данных-2.2.14\"><span class=\"toc-item-num\">2.2.14&nbsp;&nbsp;</span>Работа с типами данных</a></span></li><li><span><a href=\"#Summary\" data-toc-modified-id=\"Summary-2.2.15\"><span class=\"toc-item-num\">2.2.15&nbsp;&nbsp;</span>Summary</a></span></li></ul></li><li><span><a href=\"#Обогащение-данных\" data-toc-modified-id=\"Обогащение-данных-2.3\"><span class=\"toc-item-num\">2.3&nbsp;&nbsp;</span>Обогащение данных</a></span></li><li><span><a href=\"#Исследовательский-анализ\" data-toc-modified-id=\"Исследовательский-анализ-2.4\"><span class=\"toc-item-num\">2.4&nbsp;&nbsp;</span>Исследовательский анализ</a></span><ul class=\"toc-item\"><li><span><a href=\"#Вопрос-№1\" data-toc-modified-id=\"Вопрос-№1-2.4.1\"><span class=\"toc-item-num\">2.4.1&nbsp;&nbsp;</span>Вопрос №1</a></span></li><li><span><a href=\"#Вопрос-№2\" data-toc-modified-id=\"Вопрос-№2-2.4.2\"><span class=\"toc-item-num\">2.4.2&nbsp;&nbsp;</span>Вопрос №2</a></span></li><li><span><a href=\"#Вопрос-№3\" data-toc-modified-id=\"Вопрос-№3-2.4.3\"><span class=\"toc-item-num\">2.4.3&nbsp;&nbsp;</span>Вопрос №3</a></span></li><li><span><a href=\"#Вопрос-№4\" data-toc-modified-id=\"Вопрос-№4-2.4.4\"><span class=\"toc-item-num\">2.4.4&nbsp;&nbsp;</span>Вопрос №4</a></span></li><li><span><a href=\"#Вопрос-№5\" data-toc-modified-id=\"Вопрос-№5-2.4.5\"><span class=\"toc-item-num\">2.4.5&nbsp;&nbsp;</span>Вопрос №5</a></span></li><li><span><a href=\"#Вопрос-№6\" data-toc-modified-id=\"Вопрос-№6-2.4.6\"><span class=\"toc-item-num\">2.4.6&nbsp;&nbsp;</span>Вопрос №6</a></span></li><li><span><a href=\"#Вопрос-№7\" data-toc-modified-id=\"Вопрос-№7-2.4.7\"><span class=\"toc-item-num\">2.4.7&nbsp;&nbsp;</span>Вопрос №7</a></span></li></ul></li></ul></li><li><span><a href=\"#Общий-вывод\" data-toc-modified-id=\"Общий-вывод-3\"><span class=\"toc-item-num\">3&nbsp;&nbsp;</span>Общий вывод</a></span></li></ul></div>"
   ]
  },
  {
   "cell_type": "markdown",
   "metadata": {},
   "source": [
    "# Описание проекта"
   ]
  },
  {
   "cell_type": "markdown",
   "metadata": {},
   "source": [
    "В вашем распоряжении данные сервиса Яндекс.Недвижимость — архив объявлений о продаже квартир в Санкт-Петербурге и соседних населённых пунктах за несколько лет. Нужно научиться определять рыночную стоимость объектов недвижимости. Ваша задача — установить параметры. Это позволит построить автоматизированную систему: она отследит аномалии и мошенническую деятельность.\n",
    "\\\n",
    "\\\n",
    "По каждой квартире на продажу доступны два вида данных. Первые вписаны пользователем, вторые — получены автоматически на основе картографических данных. Например, расстояние до центра, аэропорта, ближайшего парка и водоёма."
   ]
  },
  {
   "cell_type": "markdown",
   "metadata": {},
   "source": [
    "# Ход проекта"
   ]
  },
  {
   "cell_type": "markdown",
   "metadata": {},
   "source": [
    "## Импортирование библиотек и знакомство с данными"
   ]
  },
  {
   "cell_type": "code",
   "execution_count": 5,
   "metadata": {},
   "outputs": [],
   "source": [
    "import re\n",
    "import pandas as pd\n",
    "import numpy as np\n",
    "from pymystem3 import Mystem\n",
    "from matplotlib import pyplot as plt\n",
    "%matplotlib inline"
   ]
  },
  {
   "cell_type": "code",
   "execution_count": 6,
   "metadata": {},
   "outputs": [],
   "source": [
    "# убираем символ комментария с нужного пути файла и запускаем скрипт\n",
    "\n",
    "#data = pd.read_csv('/datasets/real_estate_data.csv', sep='\\t')\n",
    "data = pd.read_csv('real_estate_data.csv', sep='\\t')"
   ]
  },
  {
   "cell_type": "code",
   "execution_count": 7,
   "metadata": {},
   "outputs": [
    {
     "data": {
      "text/html": [
       "<div>\n",
       "<style scoped>\n",
       "    .dataframe tbody tr th:only-of-type {\n",
       "        vertical-align: middle;\n",
       "    }\n",
       "\n",
       "    .dataframe tbody tr th {\n",
       "        vertical-align: top;\n",
       "    }\n",
       "\n",
       "    .dataframe thead th {\n",
       "        text-align: right;\n",
       "    }\n",
       "</style>\n",
       "<table border=\"1\" class=\"dataframe\">\n",
       "  <thead>\n",
       "    <tr style=\"text-align: right;\">\n",
       "      <th></th>\n",
       "      <th>total_images</th>\n",
       "      <th>last_price</th>\n",
       "      <th>total_area</th>\n",
       "      <th>first_day_exposition</th>\n",
       "      <th>rooms</th>\n",
       "      <th>ceiling_height</th>\n",
       "      <th>floors_total</th>\n",
       "      <th>living_area</th>\n",
       "      <th>floor</th>\n",
       "      <th>is_apartment</th>\n",
       "      <th>...</th>\n",
       "      <th>kitchen_area</th>\n",
       "      <th>balcony</th>\n",
       "      <th>locality_name</th>\n",
       "      <th>airports_nearest</th>\n",
       "      <th>cityCenters_nearest</th>\n",
       "      <th>parks_around3000</th>\n",
       "      <th>parks_nearest</th>\n",
       "      <th>ponds_around3000</th>\n",
       "      <th>ponds_nearest</th>\n",
       "      <th>days_exposition</th>\n",
       "    </tr>\n",
       "  </thead>\n",
       "  <tbody>\n",
       "    <tr>\n",
       "      <td>0</td>\n",
       "      <td>20</td>\n",
       "      <td>13000000.0</td>\n",
       "      <td>108.00</td>\n",
       "      <td>2019-03-07T00:00:00</td>\n",
       "      <td>3</td>\n",
       "      <td>2.70</td>\n",
       "      <td>16.0</td>\n",
       "      <td>51.0</td>\n",
       "      <td>8</td>\n",
       "      <td>NaN</td>\n",
       "      <td>...</td>\n",
       "      <td>25.00</td>\n",
       "      <td>NaN</td>\n",
       "      <td>Санкт-Петербург</td>\n",
       "      <td>18863.0</td>\n",
       "      <td>16028.0</td>\n",
       "      <td>1.0</td>\n",
       "      <td>482.0</td>\n",
       "      <td>2.0</td>\n",
       "      <td>755.0</td>\n",
       "      <td>NaN</td>\n",
       "    </tr>\n",
       "    <tr>\n",
       "      <td>1</td>\n",
       "      <td>7</td>\n",
       "      <td>3350000.0</td>\n",
       "      <td>40.40</td>\n",
       "      <td>2018-12-04T00:00:00</td>\n",
       "      <td>1</td>\n",
       "      <td>NaN</td>\n",
       "      <td>11.0</td>\n",
       "      <td>18.6</td>\n",
       "      <td>1</td>\n",
       "      <td>NaN</td>\n",
       "      <td>...</td>\n",
       "      <td>11.00</td>\n",
       "      <td>2.0</td>\n",
       "      <td>посёлок Шушары</td>\n",
       "      <td>12817.0</td>\n",
       "      <td>18603.0</td>\n",
       "      <td>0.0</td>\n",
       "      <td>NaN</td>\n",
       "      <td>0.0</td>\n",
       "      <td>NaN</td>\n",
       "      <td>81.0</td>\n",
       "    </tr>\n",
       "    <tr>\n",
       "      <td>2</td>\n",
       "      <td>10</td>\n",
       "      <td>5196000.0</td>\n",
       "      <td>56.00</td>\n",
       "      <td>2015-08-20T00:00:00</td>\n",
       "      <td>2</td>\n",
       "      <td>NaN</td>\n",
       "      <td>5.0</td>\n",
       "      <td>34.3</td>\n",
       "      <td>4</td>\n",
       "      <td>NaN</td>\n",
       "      <td>...</td>\n",
       "      <td>8.30</td>\n",
       "      <td>0.0</td>\n",
       "      <td>Санкт-Петербург</td>\n",
       "      <td>21741.0</td>\n",
       "      <td>13933.0</td>\n",
       "      <td>1.0</td>\n",
       "      <td>90.0</td>\n",
       "      <td>2.0</td>\n",
       "      <td>574.0</td>\n",
       "      <td>558.0</td>\n",
       "    </tr>\n",
       "    <tr>\n",
       "      <td>3</td>\n",
       "      <td>0</td>\n",
       "      <td>64900000.0</td>\n",
       "      <td>159.00</td>\n",
       "      <td>2015-07-24T00:00:00</td>\n",
       "      <td>3</td>\n",
       "      <td>NaN</td>\n",
       "      <td>14.0</td>\n",
       "      <td>NaN</td>\n",
       "      <td>9</td>\n",
       "      <td>NaN</td>\n",
       "      <td>...</td>\n",
       "      <td>NaN</td>\n",
       "      <td>0.0</td>\n",
       "      <td>Санкт-Петербург</td>\n",
       "      <td>28098.0</td>\n",
       "      <td>6800.0</td>\n",
       "      <td>2.0</td>\n",
       "      <td>84.0</td>\n",
       "      <td>3.0</td>\n",
       "      <td>234.0</td>\n",
       "      <td>424.0</td>\n",
       "    </tr>\n",
       "    <tr>\n",
       "      <td>4</td>\n",
       "      <td>2</td>\n",
       "      <td>10000000.0</td>\n",
       "      <td>100.00</td>\n",
       "      <td>2018-06-19T00:00:00</td>\n",
       "      <td>2</td>\n",
       "      <td>3.03</td>\n",
       "      <td>14.0</td>\n",
       "      <td>32.0</td>\n",
       "      <td>13</td>\n",
       "      <td>NaN</td>\n",
       "      <td>...</td>\n",
       "      <td>41.00</td>\n",
       "      <td>NaN</td>\n",
       "      <td>Санкт-Петербург</td>\n",
       "      <td>31856.0</td>\n",
       "      <td>8098.0</td>\n",
       "      <td>2.0</td>\n",
       "      <td>112.0</td>\n",
       "      <td>1.0</td>\n",
       "      <td>48.0</td>\n",
       "      <td>121.0</td>\n",
       "    </tr>\n",
       "    <tr>\n",
       "      <td>23694</td>\n",
       "      <td>9</td>\n",
       "      <td>9700000.0</td>\n",
       "      <td>133.81</td>\n",
       "      <td>2017-03-21T00:00:00</td>\n",
       "      <td>3</td>\n",
       "      <td>3.70</td>\n",
       "      <td>5.0</td>\n",
       "      <td>73.3</td>\n",
       "      <td>3</td>\n",
       "      <td>NaN</td>\n",
       "      <td>...</td>\n",
       "      <td>13.83</td>\n",
       "      <td>NaN</td>\n",
       "      <td>Санкт-Петербург</td>\n",
       "      <td>24665.0</td>\n",
       "      <td>4232.0</td>\n",
       "      <td>1.0</td>\n",
       "      <td>796.0</td>\n",
       "      <td>3.0</td>\n",
       "      <td>381.0</td>\n",
       "      <td>NaN</td>\n",
       "    </tr>\n",
       "    <tr>\n",
       "      <td>23695</td>\n",
       "      <td>14</td>\n",
       "      <td>3100000.0</td>\n",
       "      <td>59.00</td>\n",
       "      <td>2018-01-15T00:00:00</td>\n",
       "      <td>3</td>\n",
       "      <td>NaN</td>\n",
       "      <td>5.0</td>\n",
       "      <td>38.0</td>\n",
       "      <td>4</td>\n",
       "      <td>NaN</td>\n",
       "      <td>...</td>\n",
       "      <td>8.50</td>\n",
       "      <td>NaN</td>\n",
       "      <td>Тосно</td>\n",
       "      <td>NaN</td>\n",
       "      <td>NaN</td>\n",
       "      <td>NaN</td>\n",
       "      <td>NaN</td>\n",
       "      <td>NaN</td>\n",
       "      <td>NaN</td>\n",
       "      <td>45.0</td>\n",
       "    </tr>\n",
       "    <tr>\n",
       "      <td>23696</td>\n",
       "      <td>18</td>\n",
       "      <td>2500000.0</td>\n",
       "      <td>56.70</td>\n",
       "      <td>2018-02-11T00:00:00</td>\n",
       "      <td>2</td>\n",
       "      <td>NaN</td>\n",
       "      <td>3.0</td>\n",
       "      <td>29.7</td>\n",
       "      <td>1</td>\n",
       "      <td>NaN</td>\n",
       "      <td>...</td>\n",
       "      <td>NaN</td>\n",
       "      <td>NaN</td>\n",
       "      <td>село Рождествено</td>\n",
       "      <td>NaN</td>\n",
       "      <td>NaN</td>\n",
       "      <td>NaN</td>\n",
       "      <td>NaN</td>\n",
       "      <td>NaN</td>\n",
       "      <td>NaN</td>\n",
       "      <td>NaN</td>\n",
       "    </tr>\n",
       "    <tr>\n",
       "      <td>23697</td>\n",
       "      <td>13</td>\n",
       "      <td>11475000.0</td>\n",
       "      <td>76.75</td>\n",
       "      <td>2017-03-28T00:00:00</td>\n",
       "      <td>2</td>\n",
       "      <td>3.00</td>\n",
       "      <td>17.0</td>\n",
       "      <td>NaN</td>\n",
       "      <td>12</td>\n",
       "      <td>NaN</td>\n",
       "      <td>...</td>\n",
       "      <td>23.30</td>\n",
       "      <td>2.0</td>\n",
       "      <td>Санкт-Петербург</td>\n",
       "      <td>39140.0</td>\n",
       "      <td>10364.0</td>\n",
       "      <td>2.0</td>\n",
       "      <td>173.0</td>\n",
       "      <td>3.0</td>\n",
       "      <td>196.0</td>\n",
       "      <td>602.0</td>\n",
       "    </tr>\n",
       "    <tr>\n",
       "      <td>23698</td>\n",
       "      <td>4</td>\n",
       "      <td>1350000.0</td>\n",
       "      <td>32.30</td>\n",
       "      <td>2017-07-21T00:00:00</td>\n",
       "      <td>1</td>\n",
       "      <td>2.50</td>\n",
       "      <td>5.0</td>\n",
       "      <td>12.3</td>\n",
       "      <td>1</td>\n",
       "      <td>NaN</td>\n",
       "      <td>...</td>\n",
       "      <td>9.00</td>\n",
       "      <td>NaN</td>\n",
       "      <td>поселок Новый Учхоз</td>\n",
       "      <td>NaN</td>\n",
       "      <td>NaN</td>\n",
       "      <td>NaN</td>\n",
       "      <td>NaN</td>\n",
       "      <td>NaN</td>\n",
       "      <td>NaN</td>\n",
       "      <td>NaN</td>\n",
       "    </tr>\n",
       "  </tbody>\n",
       "</table>\n",
       "<p>10 rows × 22 columns</p>\n",
       "</div>"
      ],
      "text/plain": [
       "       total_images  last_price  total_area first_day_exposition  rooms  \\\n",
       "0                20  13000000.0      108.00  2019-03-07T00:00:00      3   \n",
       "1                 7   3350000.0       40.40  2018-12-04T00:00:00      1   \n",
       "2                10   5196000.0       56.00  2015-08-20T00:00:00      2   \n",
       "3                 0  64900000.0      159.00  2015-07-24T00:00:00      3   \n",
       "4                 2  10000000.0      100.00  2018-06-19T00:00:00      2   \n",
       "23694             9   9700000.0      133.81  2017-03-21T00:00:00      3   \n",
       "23695            14   3100000.0       59.00  2018-01-15T00:00:00      3   \n",
       "23696            18   2500000.0       56.70  2018-02-11T00:00:00      2   \n",
       "23697            13  11475000.0       76.75  2017-03-28T00:00:00      2   \n",
       "23698             4   1350000.0       32.30  2017-07-21T00:00:00      1   \n",
       "\n",
       "       ceiling_height  floors_total  living_area  floor is_apartment  ...  \\\n",
       "0                2.70          16.0         51.0      8          NaN  ...   \n",
       "1                 NaN          11.0         18.6      1          NaN  ...   \n",
       "2                 NaN           5.0         34.3      4          NaN  ...   \n",
       "3                 NaN          14.0          NaN      9          NaN  ...   \n",
       "4                3.03          14.0         32.0     13          NaN  ...   \n",
       "23694            3.70           5.0         73.3      3          NaN  ...   \n",
       "23695             NaN           5.0         38.0      4          NaN  ...   \n",
       "23696             NaN           3.0         29.7      1          NaN  ...   \n",
       "23697            3.00          17.0          NaN     12          NaN  ...   \n",
       "23698            2.50           5.0         12.3      1          NaN  ...   \n",
       "\n",
       "       kitchen_area  balcony        locality_name  airports_nearest  \\\n",
       "0             25.00      NaN      Санкт-Петербург           18863.0   \n",
       "1             11.00      2.0       посёлок Шушары           12817.0   \n",
       "2              8.30      0.0      Санкт-Петербург           21741.0   \n",
       "3               NaN      0.0      Санкт-Петербург           28098.0   \n",
       "4             41.00      NaN      Санкт-Петербург           31856.0   \n",
       "23694         13.83      NaN      Санкт-Петербург           24665.0   \n",
       "23695          8.50      NaN                Тосно               NaN   \n",
       "23696           NaN      NaN     село Рождествено               NaN   \n",
       "23697         23.30      2.0      Санкт-Петербург           39140.0   \n",
       "23698          9.00      NaN  поселок Новый Учхоз               NaN   \n",
       "\n",
       "      cityCenters_nearest  parks_around3000  parks_nearest  ponds_around3000  \\\n",
       "0                 16028.0               1.0          482.0               2.0   \n",
       "1                 18603.0               0.0            NaN               0.0   \n",
       "2                 13933.0               1.0           90.0               2.0   \n",
       "3                  6800.0               2.0           84.0               3.0   \n",
       "4                  8098.0               2.0          112.0               1.0   \n",
       "23694              4232.0               1.0          796.0               3.0   \n",
       "23695                 NaN               NaN            NaN               NaN   \n",
       "23696                 NaN               NaN            NaN               NaN   \n",
       "23697             10364.0               2.0          173.0               3.0   \n",
       "23698                 NaN               NaN            NaN               NaN   \n",
       "\n",
       "       ponds_nearest  days_exposition  \n",
       "0              755.0              NaN  \n",
       "1                NaN             81.0  \n",
       "2              574.0            558.0  \n",
       "3              234.0            424.0  \n",
       "4               48.0            121.0  \n",
       "23694          381.0              NaN  \n",
       "23695            NaN             45.0  \n",
       "23696            NaN              NaN  \n",
       "23697          196.0            602.0  \n",
       "23698            NaN              NaN  \n",
       "\n",
       "[10 rows x 22 columns]"
      ]
     },
     "execution_count": 7,
     "metadata": {},
     "output_type": "execute_result"
    }
   ],
   "source": [
    "pd.concat([data.head(), data.tail()])"
   ]
  },
  {
   "cell_type": "markdown",
   "metadata": {},
   "source": [
    "## Предобработка данных"
   ]
  },
  {
   "cell_type": "markdown",
   "metadata": {},
   "source": [
    "### Поиск пропущенных значений"
   ]
  },
  {
   "cell_type": "code",
   "execution_count": 4,
   "metadata": {},
   "outputs": [
    {
     "name": "stdout",
     "output_type": "stream",
     "text": [
      "<class 'pandas.core.frame.DataFrame'>\n",
      "RangeIndex: 23699 entries, 0 to 23698\n",
      "Data columns (total 22 columns):\n",
      "total_images            23699 non-null int64\n",
      "last_price              23699 non-null float64\n",
      "total_area              23699 non-null float64\n",
      "first_day_exposition    23699 non-null object\n",
      "rooms                   23699 non-null int64\n",
      "ceiling_height          14504 non-null float64\n",
      "floors_total            23613 non-null float64\n",
      "living_area             21796 non-null float64\n",
      "floor                   23699 non-null int64\n",
      "is_apartment            2775 non-null object\n",
      "studio                  23699 non-null bool\n",
      "open_plan               23699 non-null bool\n",
      "kitchen_area            21421 non-null float64\n",
      "balcony                 12180 non-null float64\n",
      "locality_name           23650 non-null object\n",
      "airports_nearest        18157 non-null float64\n",
      "cityCenters_nearest     18180 non-null float64\n",
      "parks_around3000        18181 non-null float64\n",
      "parks_nearest           8079 non-null float64\n",
      "ponds_around3000        18181 non-null float64\n",
      "ponds_nearest           9110 non-null float64\n",
      "days_exposition         20518 non-null float64\n",
      "dtypes: bool(2), float64(14), int64(3), object(3)\n",
      "memory usage: 3.7+ MB\n"
     ]
    }
   ],
   "source": [
    "data.info()"
   ]
  },
  {
   "cell_type": "code",
   "execution_count": 5,
   "metadata": {},
   "outputs": [],
   "source": [
    "def preprocessing_pivot(column=0, full=False):\n",
    "    \"\"\"сводная таблица по пропущенным значениям и корреляции с ценой\"\"\"\n",
    "    missing_ratio = round(data.isnull().sum() / data.shape[0], 3).sort_values(ascending=False)\n",
    "    missing_ratio.name = 'missing_ratio'\n",
    "\n",
    "    corr_with_price = round(abs(data.loc[:, data.columns != 'last_price'].corrwith(data['last_price'])), 3).sort_values(ascending=False)\n",
    "    corr_with_price.name='corr_with_price'\n",
    "\n",
    "    nulls_and_corr = missing_ratio.reset_index().merge(corr_with_price.reset_index(), on='index', how='left')\n",
    "    nulls_and_corr.set_index('index', inplace=True)\n",
    "\n",
    "    if full == True:\n",
    "        print(f'Доля пропущенных значений и корреляция с ценой по столбцам:\\n{nulls_and_corr}')\n",
    "    elif full == False:\n",
    "        value = nulls_and_corr.loc[column, :]\n",
    "        print(f'Доля пропущенных значений и корреляция с ценой для заданного столбца:\\n{value}')"
   ]
  },
  {
   "cell_type": "code",
   "execution_count": 6,
   "metadata": {},
   "outputs": [
    {
     "name": "stdout",
     "output_type": "stream",
     "text": [
      "Доля пропущенных значений и корреляция с ценой по столбцам:\n",
      "                      missing_ratio  corr_with_price\n",
      "index                                               \n",
      "is_apartment                  0.883              NaN\n",
      "parks_nearest                 0.659            0.016\n",
      "ponds_nearest                 0.616            0.085\n",
      "balcony                       0.486            0.030\n",
      "ceiling_height                0.388            0.085\n",
      "airports_nearest              0.234            0.026\n",
      "cityCenters_nearest           0.233            0.207\n",
      "parks_around3000              0.233            0.151\n",
      "ponds_around3000              0.233            0.160\n",
      "days_exposition               0.134            0.081\n",
      "kitchen_area                  0.096            0.520\n",
      "living_area                   0.080            0.566\n",
      "floors_total                  0.004            0.007\n",
      "locality_name                 0.002              NaN\n",
      "first_day_exposition          0.000              NaN\n",
      "last_price                    0.000              NaN\n",
      "total_area                    0.000            0.654\n",
      "studio                        0.000            0.025\n",
      "rooms                         0.000            0.363\n",
      "floor                         0.000            0.027\n",
      "open_plan                     0.000            0.009\n",
      "total_images                  0.000            0.104\n"
     ]
    }
   ],
   "source": [
    "preprocessing_pivot(full=True)"
   ]
  },
  {
   "cell_type": "markdown",
   "metadata": {},
   "source": [
    "### Обработка столбца last_price"
   ]
  },
  {
   "cell_type": "code",
   "execution_count": 7,
   "metadata": {},
   "outputs": [
    {
     "data": {
      "text/plain": [
       "count    2.369900e+04\n",
       "mean     6.541549e+06\n",
       "std      1.088701e+07\n",
       "min      1.219000e+04\n",
       "25%      3.400000e+06\n",
       "50%      4.650000e+06\n",
       "75%      6.800000e+06\n",
       "max      7.630000e+08\n",
       "Name: last_price, dtype: float64"
      ]
     },
     "execution_count": 7,
     "metadata": {},
     "output_type": "execute_result"
    }
   ],
   "source": [
    "data['last_price'].describe()"
   ]
  },
  {
   "cell_type": "code",
   "execution_count": 8,
   "metadata": {},
   "outputs": [
    {
     "data": {
      "text/html": [
       "<div>\n",
       "<style scoped>\n",
       "    .dataframe tbody tr th:only-of-type {\n",
       "        vertical-align: middle;\n",
       "    }\n",
       "\n",
       "    .dataframe tbody tr th {\n",
       "        vertical-align: top;\n",
       "    }\n",
       "\n",
       "    .dataframe thead th {\n",
       "        text-align: right;\n",
       "    }\n",
       "</style>\n",
       "<table border=\"1\" class=\"dataframe\">\n",
       "  <thead>\n",
       "    <tr style=\"text-align: right;\">\n",
       "      <th></th>\n",
       "      <th>total_images</th>\n",
       "      <th>last_price</th>\n",
       "      <th>total_area</th>\n",
       "      <th>first_day_exposition</th>\n",
       "      <th>rooms</th>\n",
       "      <th>ceiling_height</th>\n",
       "      <th>floors_total</th>\n",
       "      <th>living_area</th>\n",
       "      <th>floor</th>\n",
       "      <th>is_apartment</th>\n",
       "      <th>...</th>\n",
       "      <th>kitchen_area</th>\n",
       "      <th>balcony</th>\n",
       "      <th>locality_name</th>\n",
       "      <th>airports_nearest</th>\n",
       "      <th>cityCenters_nearest</th>\n",
       "      <th>parks_around3000</th>\n",
       "      <th>parks_nearest</th>\n",
       "      <th>ponds_around3000</th>\n",
       "      <th>ponds_nearest</th>\n",
       "      <th>days_exposition</th>\n",
       "    </tr>\n",
       "  </thead>\n",
       "  <tbody>\n",
       "    <tr>\n",
       "      <td>8793</td>\n",
       "      <td>7</td>\n",
       "      <td>12190.0</td>\n",
       "      <td>109.0</td>\n",
       "      <td>2019-03-20T00:00:00</td>\n",
       "      <td>2</td>\n",
       "      <td>2.75</td>\n",
       "      <td>25.0</td>\n",
       "      <td>32.0</td>\n",
       "      <td>25</td>\n",
       "      <td>NaN</td>\n",
       "      <td>...</td>\n",
       "      <td>40.5</td>\n",
       "      <td>NaN</td>\n",
       "      <td>Санкт-Петербург</td>\n",
       "      <td>36421.0</td>\n",
       "      <td>9176.0</td>\n",
       "      <td>1.0</td>\n",
       "      <td>805.0</td>\n",
       "      <td>0.0</td>\n",
       "      <td>NaN</td>\n",
       "      <td>8.0</td>\n",
       "    </tr>\n",
       "    <tr>\n",
       "      <td>14911</td>\n",
       "      <td>5</td>\n",
       "      <td>430000.0</td>\n",
       "      <td>54.0</td>\n",
       "      <td>2018-06-26T00:00:00</td>\n",
       "      <td>2</td>\n",
       "      <td>NaN</td>\n",
       "      <td>3.0</td>\n",
       "      <td>NaN</td>\n",
       "      <td>3</td>\n",
       "      <td>NaN</td>\n",
       "      <td>...</td>\n",
       "      <td>NaN</td>\n",
       "      <td>NaN</td>\n",
       "      <td>посёлок станции Свирь</td>\n",
       "      <td>NaN</td>\n",
       "      <td>NaN</td>\n",
       "      <td>NaN</td>\n",
       "      <td>NaN</td>\n",
       "      <td>NaN</td>\n",
       "      <td>NaN</td>\n",
       "      <td>44.0</td>\n",
       "    </tr>\n",
       "    <tr>\n",
       "      <td>17456</td>\n",
       "      <td>7</td>\n",
       "      <td>430000.0</td>\n",
       "      <td>30.4</td>\n",
       "      <td>2019-04-22T00:00:00</td>\n",
       "      <td>1</td>\n",
       "      <td>NaN</td>\n",
       "      <td>2.0</td>\n",
       "      <td>16.0</td>\n",
       "      <td>1</td>\n",
       "      <td>NaN</td>\n",
       "      <td>...</td>\n",
       "      <td>6.0</td>\n",
       "      <td>NaN</td>\n",
       "      <td>Сланцы</td>\n",
       "      <td>NaN</td>\n",
       "      <td>NaN</td>\n",
       "      <td>NaN</td>\n",
       "      <td>NaN</td>\n",
       "      <td>NaN</td>\n",
       "      <td>NaN</td>\n",
       "      <td>NaN</td>\n",
       "    </tr>\n",
       "    <tr>\n",
       "      <td>16274</td>\n",
       "      <td>18</td>\n",
       "      <td>440000.0</td>\n",
       "      <td>40.0</td>\n",
       "      <td>2018-07-10T00:00:00</td>\n",
       "      <td>1</td>\n",
       "      <td>NaN</td>\n",
       "      <td>5.0</td>\n",
       "      <td>NaN</td>\n",
       "      <td>1</td>\n",
       "      <td>NaN</td>\n",
       "      <td>...</td>\n",
       "      <td>NaN</td>\n",
       "      <td>NaN</td>\n",
       "      <td>деревня Старополье</td>\n",
       "      <td>NaN</td>\n",
       "      <td>NaN</td>\n",
       "      <td>NaN</td>\n",
       "      <td>NaN</td>\n",
       "      <td>NaN</td>\n",
       "      <td>NaN</td>\n",
       "      <td>45.0</td>\n",
       "    </tr>\n",
       "    <tr>\n",
       "      <td>5698</td>\n",
       "      <td>7</td>\n",
       "      <td>450000.0</td>\n",
       "      <td>42.0</td>\n",
       "      <td>2017-07-31T00:00:00</td>\n",
       "      <td>2</td>\n",
       "      <td>NaN</td>\n",
       "      <td>1.0</td>\n",
       "      <td>23.0</td>\n",
       "      <td>1</td>\n",
       "      <td>NaN</td>\n",
       "      <td>...</td>\n",
       "      <td>5.8</td>\n",
       "      <td>NaN</td>\n",
       "      <td>городской посёлок Будогощь</td>\n",
       "      <td>NaN</td>\n",
       "      <td>NaN</td>\n",
       "      <td>NaN</td>\n",
       "      <td>NaN</td>\n",
       "      <td>NaN</td>\n",
       "      <td>NaN</td>\n",
       "      <td>233.0</td>\n",
       "    </tr>\n",
       "  </tbody>\n",
       "</table>\n",
       "<p>5 rows × 22 columns</p>\n",
       "</div>"
      ],
      "text/plain": [
       "       total_images  last_price  total_area first_day_exposition  rooms  \\\n",
       "8793              7     12190.0       109.0  2019-03-20T00:00:00      2   \n",
       "14911             5    430000.0        54.0  2018-06-26T00:00:00      2   \n",
       "17456             7    430000.0        30.4  2019-04-22T00:00:00      1   \n",
       "16274            18    440000.0        40.0  2018-07-10T00:00:00      1   \n",
       "5698              7    450000.0        42.0  2017-07-31T00:00:00      2   \n",
       "\n",
       "       ceiling_height  floors_total  living_area  floor is_apartment  ...  \\\n",
       "8793             2.75          25.0         32.0     25          NaN  ...   \n",
       "14911             NaN           3.0          NaN      3          NaN  ...   \n",
       "17456             NaN           2.0         16.0      1          NaN  ...   \n",
       "16274             NaN           5.0          NaN      1          NaN  ...   \n",
       "5698              NaN           1.0         23.0      1          NaN  ...   \n",
       "\n",
       "       kitchen_area  balcony               locality_name  airports_nearest  \\\n",
       "8793           40.5      NaN             Санкт-Петербург           36421.0   \n",
       "14911           NaN      NaN       посёлок станции Свирь               NaN   \n",
       "17456           6.0      NaN                      Сланцы               NaN   \n",
       "16274           NaN      NaN          деревня Старополье               NaN   \n",
       "5698            5.8      NaN  городской посёлок Будогощь               NaN   \n",
       "\n",
       "      cityCenters_nearest  parks_around3000  parks_nearest  ponds_around3000  \\\n",
       "8793               9176.0               1.0          805.0               0.0   \n",
       "14911                 NaN               NaN            NaN               NaN   \n",
       "17456                 NaN               NaN            NaN               NaN   \n",
       "16274                 NaN               NaN            NaN               NaN   \n",
       "5698                  NaN               NaN            NaN               NaN   \n",
       "\n",
       "       ponds_nearest  days_exposition  \n",
       "8793             NaN              8.0  \n",
       "14911            NaN             44.0  \n",
       "17456            NaN              NaN  \n",
       "16274            NaN             45.0  \n",
       "5698             NaN            233.0  \n",
       "\n",
       "[5 rows x 22 columns]"
      ]
     },
     "execution_count": 8,
     "metadata": {},
     "output_type": "execute_result"
    }
   ],
   "source": [
    "data[data['last_price'] < data['last_price'].quantile(0.0005)].sort_values('last_price').head()"
   ]
  },
  {
   "cell_type": "markdown",
   "metadata": {},
   "source": [
    "❓Ах если бы квартиры стоили 12 190 деревянных ( Как жаль, что значение записано в тысячах рублей"
   ]
  },
  {
   "cell_type": "code",
   "execution_count": 9,
   "metadata": {},
   "outputs": [],
   "source": [
    "data.loc[8793, 'last_price'] = data.loc[8793, 'last_price'] * 1000"
   ]
  },
  {
   "cell_type": "code",
   "execution_count": 10,
   "metadata": {},
   "outputs": [
    {
     "data": {
      "image/png": "[encoded data removed]",
      "text/plain": [
       "<Figure size 432x288 with 1 Axes>"
      ]
     },
     "metadata": {
      "needs_background": "light"
     },
     "output_type": "display_data"
    }
   ],
   "source": [
    "data.boxplot('last_price')\n",
    "plt.show()"
   ]
  },
  {
   "cell_type": "markdown",
   "metadata": {},
   "source": [
    "❓В данных большое количество выбросов, которые негативно скажутся на дальнейшем анализе. Избавимся от 2% самых дорогих объектов"
   ]
  },
  {
   "cell_type": "code",
   "execution_count": 11,
   "metadata": {},
   "outputs": [],
   "source": [
    "quant98 = data['last_price'].quantile(0.98)"
   ]
  },
  {
   "cell_type": "code",
   "execution_count": 12,
   "metadata": {},
   "outputs": [],
   "source": [
    "data.drop(data[data['last_price'] > quant98].index, inplace=True)"
   ]
  },
  {
   "cell_type": "markdown",
   "metadata": {},
   "source": [
    "### Обработка столбца is_apartment"
   ]
  },
  {
   "cell_type": "code",
   "execution_count": 13,
   "metadata": {},
   "outputs": [
    {
     "data": {
      "text/plain": [
       "False    2686\n",
       "True       43\n",
       "Name: is_apartment, dtype: int64"
      ]
     },
     "execution_count": 13,
     "metadata": {},
     "output_type": "execute_result"
    }
   ],
   "source": [
    "data['is_apartment'].value_counts()"
   ]
  },
  {
   "cell_type": "markdown",
   "metadata": {},
   "source": [
    "❓Вероятнее всего, огромный пласт пропущенных значений сформировался в связи с не обязательностью выбора, является ли недвижимость фпартаментами, в сервисе Я.Недвижимость. На основе этого факта будет логичным предположить, что люди, чья недвижимость *не* является апартаментами, просто пропустят выбор и в их строке датасета в признаке is_apartment будет красоваться гордый NaN"
   ]
  },
  {
   "cell_type": "code",
   "execution_count": 14,
   "metadata": {},
   "outputs": [],
   "source": [
    "data['is_apartment'].fillna(value=False, inplace=True)"
   ]
  },
  {
   "cell_type": "code",
   "execution_count": 15,
   "metadata": {},
   "outputs": [
    {
     "name": "stdout",
     "output_type": "stream",
     "text": [
      "Доля пропущенных значений и корреляция с ценой для заданного столбца:\n",
      "missing_ratio      0.000\n",
      "corr_with_price    0.018\n",
      "Name: is_apartment, dtype: float64\n"
     ]
    }
   ],
   "source": [
    "preprocessing_pivot(column='is_apartment')"
   ]
  },
  {
   "cell_type": "markdown",
   "metadata": {},
   "source": [
    "❗️Решение: заменить все пропуски на False значения"
   ]
  },
  {
   "cell_type": "markdown",
   "metadata": {},
   "source": [
    "### Обработка столбцов parks_nearest, ponds_nearest, parks_around3000, ponds_around3000"
   ]
  },
  {
   "cell_type": "code",
   "execution_count": 16,
   "metadata": {},
   "outputs": [
    {
     "name": "stdout",
     "output_type": "stream",
     "text": [
      "                  null quantity\n",
      "parks_around3000               \n",
      "0.0                      9979.0\n",
      "1.0                         0.0\n",
      "2.0                         0.0\n",
      "3.0                         0.0\n",
      "\n",
      "                  null quantity\n",
      "ponds_around3000               \n",
      "0.0                      8963.0\n",
      "1.0                         0.0\n",
      "2.0                         0.0\n",
      "3.0                         0.0\n"
     ]
    }
   ],
   "source": [
    "# найдем количество пропусков для каждого уникального значения в parks_around3000\n",
    "parks_condition = ['parks_around3000', 'parks_nearest']\n",
    "ponds_condition = ['ponds_around3000', 'ponds_nearest']\n",
    "\n",
    "def null_pp_pivot(condition):\n",
    "    null_pivot = data[condition].pivot_table(index=condition[0], \n",
    "                           values=condition[1], \n",
    "                           aggfunc=lambda x: x.isnull().sum())\n",
    "    null_pivot.columns = ['null quantity']\n",
    "    return null_pivot\n",
    "\n",
    "print(null_pp_pivot(parks_condition))\n",
    "print()\n",
    "print(null_pp_pivot(ponds_condition))"
   ]
  },
  {
   "cell_type": "markdown",
   "metadata": {},
   "source": [
    "❓10102 строки (для парков) и 9071 (для прудов) имеют NaN значение по признаку parks/ponds_nearest, хотя нам достоверно известно, что в округе 3 км никаких парков и(или) прудов нет... Непорядок, исправляем!"
   ]
  },
  {
   "cell_type": "markdown",
   "metadata": {},
   "source": [
    "❗️Вот только исправлять не ясно чем... данные с карт выгрузить пока не видится возможным, ибо у автора ноутбука лапки, да и корреляции с ценой особо сильной нет, поэтому пока оставим пропущенные значения на месте, но будем держать в голове, что для какого-то существенного процента строк в расстоянии до ближайшего парка/пруда будет более 3000 метров"
   ]
  },
  {
   "cell_type": "markdown",
   "metadata": {},
   "source": [
    "### Обработка столбца locality_name"
   ]
  },
  {
   "cell_type": "markdown",
   "metadata": {},
   "source": [
    "❗️Данные в столбце не являются стандартизированными, в итоге порождается огромное количество дубликатов, которые могут помешать в дальнейшем анализе"
   ]
  },
  {
   "cell_type": "code",
   "execution_count": 17,
   "metadata": {},
   "outputs": [
    {
     "data": {
      "text/plain": [
       "49"
      ]
     },
     "execution_count": 17,
     "metadata": {},
     "output_type": "execute_result"
    }
   ],
   "source": [
    "data['locality_name'].isnull().sum()"
   ]
  },
  {
   "cell_type": "code",
   "execution_count": 18,
   "metadata": {},
   "outputs": [],
   "source": [
    "# избавимся от пропущенных значений, так как восстановить их не видится возможным, а общая доля \"нулей\" ничтожно мала\n",
    "data.dropna(subset = ['locality_name'], inplace = True)"
   ]
  },
  {
   "cell_type": "code",
   "execution_count": 19,
   "metadata": {},
   "outputs": [
    {
     "data": {
      "text/plain": [
       "364"
      ]
     },
     "execution_count": 19,
     "metadata": {},
     "output_type": "execute_result"
    }
   ],
   "source": [
    "# сделаем контрольных замер количества уникальных значений\n",
    "data['locality_name'].unique().shape[0]"
   ]
  },
  {
   "cell_type": "code",
   "execution_count": 20,
   "metadata": {},
   "outputs": [],
   "source": [
    "def locality_transformation(row):\n",
    "    \"\"\"Приведем названия населенных пунктов к единому стилю \n",
    "    (отбросив тип поселения и заменив все ё на красивые е)\"\"\"\n",
    "    locality_name = row.replace('ё','е')\n",
    "    \n",
    "    return re.sub(r'\\b[а-я]+\\s*', '', locality_name).strip()"
   ]
  },
  {
   "cell_type": "code",
   "execution_count": 21,
   "metadata": {},
   "outputs": [],
   "source": [
    "data['locality_name'] = data['locality_name'].apply(locality_transformation)"
   ]
  },
  {
   "cell_type": "code",
   "execution_count": 22,
   "metadata": {},
   "outputs": [
    {
     "data": {
      "text/plain": [
       "305"
      ]
     },
     "execution_count": 22,
     "metadata": {},
     "output_type": "execute_result"
    }
   ],
   "source": [
    "# проверим насколько удалось ужать уникальные значения столбца\n",
    "data['locality_name'].unique().shape[0]"
   ]
  },
  {
   "cell_type": "markdown",
   "metadata": {},
   "source": [
    "❗️Неплохо, уникальных значений стало почти на 60 элементов меньше. Успех!"
   ]
  },
  {
   "cell_type": "markdown",
   "metadata": {},
   "source": [
    "### Обработка столбца floors_total"
   ]
  },
  {
   "cell_type": "code",
   "execution_count": 23,
   "metadata": {},
   "outputs": [
    {
     "data": {
      "image/png": "[encoded data removed]",
      "text/plain": [
       "<Figure size 432x288 with 1 Axes>"
      ]
     },
     "metadata": {
      "needs_background": "light"
     },
     "output_type": "display_data"
    }
   ],
   "source": [
    "data.boxplot('floors_total')\n",
    "plt.show()"
   ]
  },
  {
   "cell_type": "code",
   "execution_count": 24,
   "metadata": {},
   "outputs": [
    {
     "data": {
      "text/html": [
       "<div>\n",
       "<style scoped>\n",
       "    .dataframe tbody tr th:only-of-type {\n",
       "        vertical-align: middle;\n",
       "    }\n",
       "\n",
       "    .dataframe tbody tr th {\n",
       "        vertical-align: top;\n",
       "    }\n",
       "\n",
       "    .dataframe thead th {\n",
       "        text-align: right;\n",
       "    }\n",
       "</style>\n",
       "<table border=\"1\" class=\"dataframe\">\n",
       "  <thead>\n",
       "    <tr style=\"text-align: right;\">\n",
       "      <th></th>\n",
       "      <th>total_images</th>\n",
       "      <th>last_price</th>\n",
       "      <th>total_area</th>\n",
       "      <th>first_day_exposition</th>\n",
       "      <th>rooms</th>\n",
       "      <th>ceiling_height</th>\n",
       "      <th>floors_total</th>\n",
       "      <th>living_area</th>\n",
       "      <th>floor</th>\n",
       "      <th>is_apartment</th>\n",
       "      <th>...</th>\n",
       "      <th>kitchen_area</th>\n",
       "      <th>balcony</th>\n",
       "      <th>locality_name</th>\n",
       "      <th>airports_nearest</th>\n",
       "      <th>cityCenters_nearest</th>\n",
       "      <th>parks_around3000</th>\n",
       "      <th>parks_nearest</th>\n",
       "      <th>ponds_around3000</th>\n",
       "      <th>ponds_nearest</th>\n",
       "      <th>days_exposition</th>\n",
       "    </tr>\n",
       "  </thead>\n",
       "  <tbody>\n",
       "    <tr>\n",
       "      <td>2253</td>\n",
       "      <td>12</td>\n",
       "      <td>3800000.0</td>\n",
       "      <td>45.5</td>\n",
       "      <td>2018-06-28T00:00:00</td>\n",
       "      <td>2</td>\n",
       "      <td>2.88</td>\n",
       "      <td>60.0</td>\n",
       "      <td>27.4</td>\n",
       "      <td>4</td>\n",
       "      <td>False</td>\n",
       "      <td>...</td>\n",
       "      <td>7.4</td>\n",
       "      <td>NaN</td>\n",
       "      <td>Кронштадт</td>\n",
       "      <td>67763.0</td>\n",
       "      <td>49488.0</td>\n",
       "      <td>2.0</td>\n",
       "      <td>342.0</td>\n",
       "      <td>3.0</td>\n",
       "      <td>614.0</td>\n",
       "      <td>166.0</td>\n",
       "    </tr>\n",
       "  </tbody>\n",
       "</table>\n",
       "<p>1 rows × 22 columns</p>\n",
       "</div>"
      ],
      "text/plain": [
       "      total_images  last_price  total_area first_day_exposition  rooms  \\\n",
       "2253            12   3800000.0        45.5  2018-06-28T00:00:00      2   \n",
       "\n",
       "      ceiling_height  floors_total  living_area  floor  is_apartment  ...  \\\n",
       "2253            2.88          60.0         27.4      4         False  ...   \n",
       "\n",
       "      kitchen_area  balcony  locality_name  airports_nearest  \\\n",
       "2253           7.4      NaN      Кронштадт           67763.0   \n",
       "\n",
       "     cityCenters_nearest  parks_around3000  parks_nearest  ponds_around3000  \\\n",
       "2253             49488.0               2.0          342.0               3.0   \n",
       "\n",
       "      ponds_nearest  days_exposition  \n",
       "2253          614.0            166.0  \n",
       "\n",
       "[1 rows x 22 columns]"
      ]
     },
     "execution_count": 24,
     "metadata": {},
     "output_type": "execute_result"
    }
   ],
   "source": [
    "data[(data['floors_total'] > 30) & (data['locality_name'] != 'Санкт-Петербург')]"
   ]
  },
  {
   "cell_type": "markdown",
   "metadata": {},
   "source": [
    "❗️60 этажей в Кронштадте? Не верю! Вероятнее, 6"
   ]
  },
  {
   "cell_type": "code",
   "execution_count": 25,
   "metadata": {},
   "outputs": [],
   "source": [
    "data.loc[2253, 'floors_total'] = 6"
   ]
  },
  {
   "cell_type": "markdown",
   "metadata": {},
   "source": [
    "❓А что, если мы по косвенным признакам установим соответствие нескольких объявлений одному дому и заполним пропуски верным значением? Звучит прелесно, вот только как выявить одинакоовые дома, если у нас нет ни адреса, ни географических координат... Можно искать по совпадающему расстоянию до центра города и аэропорта!"
   ]
  },
  {
   "cell_type": "code",
   "execution_count": 26,
   "metadata": {},
   "outputs": [
    {
     "data": {
      "text/plain": [
       "count    23102.000000\n",
       "mean        10.722751\n",
       "std          6.614936\n",
       "min          1.000000\n",
       "25%          5.000000\n",
       "50%          9.000000\n",
       "75%         16.000000\n",
       "max         52.000000\n",
       "Name: floors_total, dtype: float64"
      ]
     },
     "execution_count": 26,
     "metadata": {},
     "output_type": "execute_result"
    }
   ],
   "source": [
    "data['floors_total'].describe()"
   ]
  },
  {
   "cell_type": "code",
   "execution_count": 27,
   "metadata": {},
   "outputs": [
    {
     "data": {
      "text/plain": [
       "84"
      ]
     },
     "execution_count": 27,
     "metadata": {},
     "output_type": "execute_result"
    }
   ],
   "source": [
    "data['floors_total'].isnull().sum()"
   ]
  },
  {
   "cell_type": "code",
   "execution_count": 28,
   "metadata": {},
   "outputs": [],
   "source": [
    "floors_total_columns = ['floors_total', 'cityCenters_nearest', 'airports_nearest']\n",
    "floors_max = data[floors_total_columns].groupby(floors_total_columns[1:]).max().reset_index()\n",
    "\n",
    "center_target = floors_max['cityCenters_nearest']\n",
    "airport_target = floors_max['airports_nearest']\n",
    "\n",
    "\n",
    "def find_max_floor(row):\n",
    "    global floors_max\n",
    "    global center_target\n",
    "    global airport_target\n",
    "    \n",
    "    if row.isnull()['floors_total']:\n",
    "        center = row['cityCenters_nearest']\n",
    "        airport = row['airports_nearest']\n",
    "        \n",
    "        if ((center_target == center).sum() > 0) and ((airport_target == airport).sum() > 0):\n",
    "            return floors_max.query('cityCenters_nearest == @center and airports_nearest == @airport')['floors_total'].item()\n",
    "    return row['floors_total']\n"
   ]
  },
  {
   "cell_type": "code",
   "execution_count": 29,
   "metadata": {},
   "outputs": [
    {
     "name": "stderr",
     "output_type": "stream",
     "text": [
      "/Users/ismailovrustam/opt/anaconda3/envs/practicum/lib/python3.7/site-packages/ipykernel_launcher.py:18: FutureWarning: `item` has been deprecated and will be removed in a future version\n"
     ]
    }
   ],
   "source": [
    "data['floors_total'] = data.apply(find_max_floor, axis=1)"
   ]
  },
  {
   "cell_type": "code",
   "execution_count": 30,
   "metadata": {},
   "outputs": [
    {
     "data": {
      "text/plain": [
       "35"
      ]
     },
     "execution_count": 30,
     "metadata": {},
     "output_type": "execute_result"
    }
   ],
   "source": [
    "data['floors_total'].isnull().sum()"
   ]
  },
  {
   "cell_type": "markdown",
   "metadata": {},
   "source": [
    "❗️Оставшиеся строки придется ликвидировать"
   ]
  },
  {
   "cell_type": "code",
   "execution_count": 31,
   "metadata": {},
   "outputs": [],
   "source": [
    "data.dropna(subset = ['floors_total'], inplace = True)"
   ]
  },
  {
   "cell_type": "code",
   "execution_count": 32,
   "metadata": {},
   "outputs": [
    {
     "data": {
      "text/plain": [
       "0"
      ]
     },
     "execution_count": 32,
     "metadata": {},
     "output_type": "execute_result"
    }
   ],
   "source": [
    "data['floors_total'].isnull().sum()"
   ]
  },
  {
   "cell_type": "markdown",
   "metadata": {},
   "source": [
    "### Обработка столбца ceiling_height"
   ]
  },
  {
   "cell_type": "code",
   "execution_count": 33,
   "metadata": {},
   "outputs": [
    {
     "data": {
      "text/plain": [
       "count    14179.000000\n",
       "mean         2.760330\n",
       "std          1.271139\n",
       "min          1.000000\n",
       "25%          2.500000\n",
       "50%          2.650000\n",
       "75%          2.800000\n",
       "max        100.000000\n",
       "Name: ceiling_height, dtype: float64"
      ]
     },
     "execution_count": 33,
     "metadata": {},
     "output_type": "execute_result"
    }
   ],
   "source": [
    "data['ceiling_height'].describe()"
   ]
  },
  {
   "cell_type": "code",
   "execution_count": 34,
   "metadata": {},
   "outputs": [
    {
     "data": {
      "text/plain": [
       "73"
      ]
     },
     "execution_count": 34,
     "metadata": {},
     "output_type": "execute_result"
    }
   ],
   "source": [
    "data[data['ceiling_height'] < 2.5].shape[0]"
   ]
  },
  {
   "cell_type": "markdown",
   "metadata": {},
   "source": [
    "❗️Согласно нормативам, высота потолков не может быть менее 2.5 метров. Удалим неподходящие строки"
   ]
  },
  {
   "cell_type": "code",
   "execution_count": 35,
   "metadata": {},
   "outputs": [],
   "source": [
    "data.drop(data[data['ceiling_height'] < 2.5].index, inplace=True)"
   ]
  },
  {
   "cell_type": "code",
   "execution_count": 36,
   "metadata": {},
   "outputs": [
    {
     "data": {
      "text/plain": [
       "20"
      ]
     },
     "execution_count": 36,
     "metadata": {},
     "output_type": "execute_result"
    }
   ],
   "source": [
    "data[data['ceiling_height'] >= 25].shape[0]"
   ]
  },
  {
   "cell_type": "markdown",
   "metadata": {},
   "source": [
    "❗️Очевидно, все данные > 25 метра - банальные опечатки. Нужно вернуть десятичную часть на свое законное место, разделив данные на 10"
   ]
  },
  {
   "cell_type": "code",
   "execution_count": 37,
   "metadata": {},
   "outputs": [],
   "source": [
    "new_height = data.loc[data['ceiling_height'] >= 25, 'ceiling_height'] / 10\n",
    "data.loc[data['ceiling_height'] >= 25, 'ceiling_height'] = new_height"
   ]
  },
  {
   "cell_type": "code",
   "execution_count": 38,
   "metadata": {},
   "outputs": [
    {
     "data": {
      "image/png": "[encoded data removed]",
      "text/plain": [
       "<Figure size 432x288 with 1 Axes>"
      ]
     },
     "metadata": {
      "needs_background": "light"
     },
     "output_type": "display_data"
    }
   ],
   "source": [
    "data.boxplot('ceiling_height')\n",
    "plt.show()"
   ]
  },
  {
   "cell_type": "code",
   "execution_count": 39,
   "metadata": {},
   "outputs": [
    {
     "data": {
      "text/plain": [
       "0.71"
      ]
     },
     "execution_count": 39,
     "metadata": {},
     "output_type": "execute_result"
    }
   ],
   "source": [
    "round(data[(data['ceiling_height'] > 3.6)].shape[0] / data.shape[0] * 100, 2)"
   ]
  },
  {
   "cell_type": "markdown",
   "metadata": {},
   "source": [
    "❗️В данных все еще остается большое количество выбросов. Согласно разным источникам из интернета, максимальная высота потолков по нормативам сталинского времени достигает 3.6 м. Так как таких данных менее 1%, от них можно избавиться (несмотря на вероятное наличие нескольких верных записей с реальной высотой более 3.6м, однако, такие данные будут лишь портить общую статистику, нежели отражать реальное положение дел на рынке недвижимости)"
   ]
  },
  {
   "cell_type": "code",
   "execution_count": 40,
   "metadata": {},
   "outputs": [],
   "source": [
    "data.drop(data[data['ceiling_height'] > 3.6].index, inplace=True)"
   ]
  },
  {
   "cell_type": "code",
   "execution_count": 41,
   "metadata": {},
   "outputs": [
    {
     "data": {
      "image/png": "[encoded data removed]",
      "text/plain": [
       "<Figure size 432x288 with 1 Axes>"
      ]
     },
     "metadata": {
      "needs_background": "light"
     },
     "output_type": "display_data"
    }
   ],
   "source": [
    "data.boxplot('ceiling_height')\n",
    "plt.show()"
   ]
  },
  {
   "cell_type": "markdown",
   "metadata": {},
   "source": [
    "❗️Заполним пропуски аналогичным предыдущему пункты способом"
   ]
  },
  {
   "cell_type": "code",
   "execution_count": 42,
   "metadata": {},
   "outputs": [
    {
     "data": {
      "text/plain": [
       "8972"
      ]
     },
     "execution_count": 42,
     "metadata": {},
     "output_type": "execute_result"
    }
   ],
   "source": [
    "data['ceiling_height'].isnull().sum()"
   ]
  },
  {
   "cell_type": "code",
   "execution_count": 43,
   "metadata": {},
   "outputs": [],
   "source": [
    "height_total_columns = ['ceiling_height', 'cityCenters_nearest', 'airports_nearest']\n",
    "height_max = data[height_total_columns].groupby(height_total_columns[1:]).median().reset_index()\n",
    "\n",
    "center_target = height_max['cityCenters_nearest']\n",
    "airport_target = height_max['airports_nearest']\n",
    "\n",
    "\n",
    "def find_max_height(row):\n",
    "    global height_max\n",
    "    global center_target\n",
    "    global airport_target\n",
    "    \n",
    "    if row.isnull()['ceiling_height']:\n",
    "        center = row['cityCenters_nearest']\n",
    "        airport = row['airports_nearest']\n",
    "        \n",
    "        if ((center_target == center).sum() > 0) and ((airport_target == airport).sum() > 0):\n",
    "            return height_max.query('cityCenters_nearest == @center and airports_nearest == @airport')['ceiling_height'].item()\n",
    "    return row['ceiling_height']\n",
    "\n"
   ]
  },
  {
   "cell_type": "code",
   "execution_count": 44,
   "metadata": {},
   "outputs": [
    {
     "name": "stderr",
     "output_type": "stream",
     "text": [
      "/Users/ismailovrustam/opt/anaconda3/envs/practicum/lib/python3.7/site-packages/ipykernel_launcher.py:18: FutureWarning: `item` has been deprecated and will be removed in a future version\n"
     ]
    }
   ],
   "source": [
    "data['ceiling_height'] = data.apply(find_max_height, axis=1)"
   ]
  },
  {
   "cell_type": "code",
   "execution_count": 45,
   "metadata": {},
   "outputs": [
    {
     "data": {
      "text/plain": [
       "5410"
      ]
     },
     "execution_count": 45,
     "metadata": {},
     "output_type": "execute_result"
    }
   ],
   "source": [
    "data['ceiling_height'].isnull().sum()"
   ]
  },
  {
   "cell_type": "markdown",
   "metadata": {},
   "source": [
    "❗️Оставшиеся данные заполним медианой (во избежании влияния оставшихся больших значений)"
   ]
  },
  {
   "cell_type": "code",
   "execution_count": 46,
   "metadata": {},
   "outputs": [],
   "source": [
    "data['ceiling_height'].fillna(data['ceiling_height'].median(), inplace=True)"
   ]
  },
  {
   "cell_type": "code",
   "execution_count": 47,
   "metadata": {},
   "outputs": [
    {
     "data": {
      "text/plain": [
       "0"
      ]
     },
     "execution_count": 47,
     "metadata": {},
     "output_type": "execute_result"
    }
   ],
   "source": [
    "data['ceiling_height'].isnull().sum()"
   ]
  },
  {
   "cell_type": "markdown",
   "metadata": {},
   "source": [
    "### Обработка столбцов cityCenters_nearest, airports_nearest"
   ]
  },
  {
   "cell_type": "code",
   "execution_count": 48,
   "metadata": {},
   "outputs": [
    {
     "data": {
      "text/plain": [
       "cityCenters_nearest    5447\n",
       "airports_nearest       5465\n",
       "dtype: int64"
      ]
     },
     "execution_count": 48,
     "metadata": {},
     "output_type": "execute_result"
    }
   ],
   "source": [
    "data[['cityCenters_nearest', 'airports_nearest']].isnull().sum()"
   ]
  },
  {
   "cell_type": "markdown",
   "metadata": {},
   "source": [
    "❗️Так как в данных столбцах измеряется расстояние до центра СПБ и до аэропорта Пулково (единственного в округе), разумным будет выявить среднее расстояние до этих объектов из каждого отдельного населенного пункта и заполнить пропуски этими значениями в зависимости от значения признака locality_name"
   ]
  },
  {
   "cell_type": "code",
   "execution_count": 49,
   "metadata": {},
   "outputs": [
    {
     "data": {
      "text/plain": [
       "Санкт-Петербург    15068\n",
       "Мурино               586\n",
       "Кудрово              469\n",
       "Шушары               438\n",
       "Всеволожск           395\n",
       "                   ...  \n",
       "Лесная Поляна          1\n",
       "Новолисино             1\n",
       "Тихковицы              1\n",
       "Семиозерье             1\n",
       "Алексеевка             1\n",
       "Name: locality_name, Length: 304, dtype: int64"
      ]
     },
     "execution_count": 49,
     "metadata": {},
     "output_type": "execute_result"
    }
   ],
   "source": [
    "# изучим частоту встречаемости тех или иных населенных пунктов\n",
    "data['locality_name'].value_counts()"
   ]
  },
  {
   "cell_type": "code",
   "execution_count": 50,
   "metadata": {},
   "outputs": [
    {
     "data": {
      "image/png": "[encoded data removed]",
      "text/plain": [
       "<Figure size 432x288 with 1 Axes>"
      ]
     },
     "metadata": {
      "needs_background": "light"
     },
     "output_type": "display_data"
    }
   ],
   "source": [
    "# взглянем на распределение встречаемости населенных пунктов (за исключением спб)\n",
    "data['locality_name'].value_counts().hist(bins=100, range=(0,600))\n",
    "plt.show()"
   ]
  },
  {
   "cell_type": "markdown",
   "metadata": {},
   "source": [
    "Большое количество населенных пунктов встречается 1-2 раза, кажется, считать по ним среднюю и заполнять пропуски нельзя, данных слишком мало. Однако, даже такое \"неточное\" заполнение будет полезным, так как мелкие населенные пункты (записей по которым, очевидно, меньше всего) не такие большие в диаметре и дисперсия между реальным расстоянием и нашей оценкой будет минимальна"
   ]
  },
  {
   "cell_type": "code",
   "execution_count": 51,
   "metadata": {},
   "outputs": [
    {
     "name": "stderr",
     "output_type": "stream",
     "text": [
      "/Users/ismailovrustam/opt/anaconda3/envs/practicum/lib/python3.7/site-packages/numpy/lib/nanfunctions.py:1113: RuntimeWarning: Mean of empty slice\n",
      "  return np.nanmean(a, axis, out=out, keepdims=keepdims)\n",
      "/Users/ismailovrustam/opt/anaconda3/envs/practicum/lib/python3.7/site-packages/numpy/lib/nanfunctions.py:1116: RuntimeWarning: All-NaN slice encountered\n",
      "  overwrite_input=overwrite_input)\n"
     ]
    }
   ],
   "source": [
    "# заполним столбец cityCenters_nearest медианой по группе locality_name\n",
    "data['cityCenters_nearest'] = data[\n",
    "                                    ['locality_name', 'cityCenters_nearest']\n",
    "                                  ].groupby('locality_name').transform(lambda group: \n",
    "                                                                                    group.fillna(group.median())\n",
    "                                                                      )"
   ]
  },
  {
   "cell_type": "code",
   "execution_count": 52,
   "metadata": {},
   "outputs": [],
   "source": [
    "# заполним столбец airports_nearest медианой по группе locality_name\n",
    "data['airports_nearest'] = data[\n",
    "                                    ['locality_name', 'airports_nearest']\n",
    "                                  ].groupby('locality_name').transform(lambda group: \n",
    "                                                                                    group.fillna(group.median())\n",
    "                                                                      )"
   ]
  },
  {
   "cell_type": "code",
   "execution_count": 53,
   "metadata": {},
   "outputs": [
    {
     "data": {
      "text/plain": [
       "cityCenters_nearest    5390\n",
       "airports_nearest       5390\n",
       "dtype: int64"
      ]
     },
     "execution_count": 53,
     "metadata": {},
     "output_type": "execute_result"
    }
   ],
   "source": [
    "data[['cityCenters_nearest', 'airports_nearest']].isnull().sum()"
   ]
  },
  {
   "cell_type": "markdown",
   "metadata": {},
   "source": [
    "❗️На безрыбье и 80 заполненных значений - уха 😄"
   ]
  },
  {
   "cell_type": "markdown",
   "metadata": {},
   "source": [
    "### Обработка столбца days_exposition"
   ]
  },
  {
   "cell_type": "code",
   "execution_count": 54,
   "metadata": {},
   "outputs": [
    {
     "data": {
      "text/plain": [
       "3009"
      ]
     },
     "execution_count": 54,
     "metadata": {},
     "output_type": "execute_result"
    }
   ],
   "source": [
    "data['days_exposition'].isnull().sum()"
   ]
  },
  {
   "cell_type": "code",
   "execution_count": 55,
   "metadata": {},
   "outputs": [
    {
     "data": {
      "image/png": "[encoded data removed]",
      "text/plain": [
       "<Figure size 432x288 with 1 Axes>"
      ]
     },
     "metadata": {
      "needs_background": "light"
     },
     "output_type": "display_data"
    }
   ],
   "source": [
    "data['days_exposition'].hist(bins=100)\n",
    "plt.show()"
   ]
  },
  {
   "cell_type": "markdown",
   "metadata": {},
   "source": [
    "❓Очевидно, пропущенные значения по этому столбцу являются сигналом того, что объявление не было снято с продажи. Как видно на гистограмме, некоторые объявления остаются размещенными более 1000 дней. Возможно, имеет смысл дать совет разработчикам платформы, удалять старые объявления, если хозяин сервиса не проявляет активность и не выходит на связь."
   ]
  },
  {
   "cell_type": "markdown",
   "metadata": {},
   "source": [
    "❗️В голову приходит два варианта решения проблемы:\n",
    "    1. Заполнить пропуски разницей между датой публикации и текущей датой\n",
    "    2. Заполнить нулями и добавить суб-столбец \"is_active\" для идентификации объявлений, не являющихся закрытыми\n",
    "\n",
    "Однако, ни то, ни другое решение не видится мне рациональным ввиду того, что текущая реализация с nan в целом отражает \"правильное\" распределение, а заполнение пропусков 1 методом создаст тяжелый хвост"
   ]
  },
  {
   "cell_type": "markdown",
   "metadata": {},
   "source": [
    "### Обработка столбца rooms"
   ]
  },
  {
   "cell_type": "code",
   "execution_count": 56,
   "metadata": {},
   "outputs": [
    {
     "data": {
      "image/png": "[encoded data removed]",
      "text/plain": [
       "<Figure size 432x288 with 1 Axes>"
      ]
     },
     "metadata": {
      "needs_background": "light"
     },
     "output_type": "display_data"
    }
   ],
   "source": [
    "data.boxplot('rooms')\n",
    "plt.show()"
   ]
  },
  {
   "cell_type": "code",
   "execution_count": 57,
   "metadata": {},
   "outputs": [
    {
     "data": {
      "text/plain": [
       "44"
      ]
     },
     "execution_count": 57,
     "metadata": {},
     "output_type": "execute_result"
    }
   ],
   "source": [
    "data[data['rooms'] > 6].shape[0]"
   ]
  },
  {
   "cell_type": "markdown",
   "metadata": {},
   "source": [
    "❗️Нужно отпустить лишь 12 строк и никаких выбросов... Заманчиво!"
   ]
  },
  {
   "cell_type": "code",
   "execution_count": 58,
   "metadata": {},
   "outputs": [],
   "source": [
    "data.drop(data[data['rooms'] > 6].index, inplace=True)"
   ]
  },
  {
   "cell_type": "markdown",
   "metadata": {},
   "source": [
    "### Обработка столбца total_area"
   ]
  },
  {
   "cell_type": "code",
   "execution_count": 59,
   "metadata": {},
   "outputs": [
    {
     "data": {
      "text/plain": [
       "count    22870.000000\n",
       "mean        57.091036\n",
       "std         25.377511\n",
       "min         12.000000\n",
       "25%         40.000000\n",
       "50%         51.000000\n",
       "75%         67.600000\n",
       "max        460.800000\n",
       "Name: total_area, dtype: float64"
      ]
     },
     "execution_count": 59,
     "metadata": {},
     "output_type": "execute_result"
    }
   ],
   "source": [
    "data['total_area'].describe()"
   ]
  },
  {
   "cell_type": "code",
   "execution_count": 60,
   "metadata": {},
   "outputs": [
    {
     "data": {
      "image/png": "[encoded data removed]",
      "text/plain": [
       "<Figure size 432x288 with 1 Axes>"
      ]
     },
     "metadata": {
      "needs_background": "light"
     },
     "output_type": "display_data"
    }
   ],
   "source": [
    "data.boxplot('total_area')\n",
    "plt.show()"
   ]
  },
  {
   "cell_type": "markdown",
   "metadata": {},
   "source": [
    "❓Было бы неплохо укоротить хвост"
   ]
  },
  {
   "cell_type": "code",
   "execution_count": 61,
   "metadata": {},
   "outputs": [],
   "source": [
    "data.drop(data[data['total_area'] > 175].index, inplace=True)"
   ]
  },
  {
   "cell_type": "markdown",
   "metadata": {},
   "source": [
    "### Обработка столбцов kitchen_area и living_area"
   ]
  },
  {
   "cell_type": "code",
   "execution_count": 62,
   "metadata": {},
   "outputs": [
    {
     "data": {
      "image/png": "[encoded data removed]",
      "text/plain": [
       "<Figure size 720x576 with 4 Axes>"
      ]
     },
     "metadata": {
      "needs_background": "light"
     },
     "output_type": "display_data"
    }
   ],
   "source": [
    "data[['total_area', 'kitchen_area', 'living_area']].hist(bins=50, figsize=(10,8))\n",
    "plt.show()"
   ]
  },
  {
   "cell_type": "markdown",
   "metadata": {},
   "source": [
    "❓В целом распределения выглядят здорово. Проведем проверку \"на дурачка\", для выявления плохих данных"
   ]
  },
  {
   "cell_type": "code",
   "execution_count": 63,
   "metadata": {},
   "outputs": [
    {
     "data": {
      "text/plain": [
       "63"
      ]
     },
     "execution_count": 63,
     "metadata": {},
     "output_type": "execute_result"
    }
   ],
   "source": [
    "data[data['kitchen_area'] + data['living_area'] > data['total_area']].shape[0]"
   ]
  },
  {
   "cell_type": "code",
   "execution_count": 64,
   "metadata": {},
   "outputs": [
    {
     "data": {
      "text/plain": [
       "2"
      ]
     },
     "execution_count": 64,
     "metadata": {},
     "output_type": "execute_result"
    }
   ],
   "source": [
    "data[data['living_area'] == data['total_area']].shape[0]"
   ]
  },
  {
   "cell_type": "markdown",
   "metadata": {},
   "source": [
    "❗️В данных имеется 63 строки, где сумма площадей квартиры больше общей площади и 2 строки, где жилая площадь == общей площади... восстановить правильные данные невозможно, поэтому единственное решение - удаление битых строк"
   ]
  },
  {
   "cell_type": "code",
   "execution_count": 65,
   "metadata": {},
   "outputs": [],
   "source": [
    "data.drop(data[data['kitchen_area'] + data['living_area'] > data['total_area']].index, inplace=True)"
   ]
  },
  {
   "cell_type": "code",
   "execution_count": 66,
   "metadata": {},
   "outputs": [],
   "source": [
    "data.drop(data[data['living_area'] == data['total_area']].index, inplace=True)"
   ]
  },
  {
   "cell_type": "markdown",
   "metadata": {},
   "source": [
    "❓Заполним пропуски в обрабатываемых столбцах по следующему алгоритму:\n",
    "    1. Для каждой четверти (по квантилям) данных по общей площади берется медианное отношение жилой площади/площади кухни к общей плоащди\n",
    "    2. Пропуски заполняются вычисляемым значением по формуле:\n",
    "        *для kitchen_area: медианная доля площади кухни для соответсвующего квантиля * общая площадь\n",
    "        *для living_area: аналогично"
   ]
  },
  {
   "cell_type": "code",
   "execution_count": 67,
   "metadata": {},
   "outputs": [],
   "source": [
    "first25 = data.query('total_area.quantile(0) <= total_area <= total_area.quantile(0.25)')\n",
    "half = data.query('total_area.quantile(0.25) < total_area <= total_area.quantile(0.75)')\n",
    "last25 = data.query('total_area.quantile(0.75) < total_area <= total_area.quantile(1)')"
   ]
  },
  {
   "cell_type": "code",
   "execution_count": 68,
   "metadata": {},
   "outputs": [],
   "source": [
    "def square_median(df):\n",
    "    kitchen = df['kitchen_area']\n",
    "    living = df['living_area']\n",
    "    total = df['total_area']\n",
    "\n",
    "    return round((kitchen / total).median(), 2), round((living / total).median(), 2)"
   ]
  },
  {
   "cell_type": "code",
   "execution_count": 69,
   "metadata": {},
   "outputs": [],
   "source": [
    "def fill_kitchen(row):\n",
    "    if row.name in first25.index:\n",
    "        fill_coefs = square_median(first25)\n",
    "        value = row['total_area'] * fill_coefs[0]\n",
    "        return value\n",
    "    elif row.name in half.index:\n",
    "        fill_coefs = square_median(half)\n",
    "        value = row['total_area'] * fill_coefs[0]\n",
    "        return value\n",
    "    elif row.name in last25.index:\n",
    "        fill_coefs = square_median(last25)\n",
    "        value = row['total_area'] * fill_coefs[0]\n",
    "        return value"
   ]
  },
  {
   "cell_type": "code",
   "execution_count": 70,
   "metadata": {},
   "outputs": [],
   "source": [
    "def fill_living(row):\n",
    "    if row.name in first25.index:\n",
    "        fill_coefs = square_median(first25)\n",
    "        value = row['total_area'] * fill_coefs[1]\n",
    "        return value\n",
    "    elif row.name in half.index:\n",
    "        fill_coefs = square_median(half)\n",
    "        value = row['total_area'] * fill_coefs[1]\n",
    "        return value\n",
    "    elif row.name in last25.index:\n",
    "        fill_coefs = square_median(last25)\n",
    "        value = row['total_area'] * fill_coefs[1]\n",
    "        return value"
   ]
  },
  {
   "cell_type": "code",
   "execution_count": 71,
   "metadata": {},
   "outputs": [],
   "source": [
    "data.loc[data['kitchen_area'].isnull(), \n",
    "         'kitchen_area'] = data[data['kitchen_area'].isnull()].apply(fill_kitchen, axis=1)"
   ]
  },
  {
   "cell_type": "code",
   "execution_count": 72,
   "metadata": {},
   "outputs": [],
   "source": [
    "data.loc[data['living_area'].isnull(), \n",
    "         'living_area'] = data[data['living_area'].isnull()].apply(fill_kitchen, axis=1)"
   ]
  },
  {
   "cell_type": "code",
   "execution_count": 73,
   "metadata": {},
   "outputs": [
    {
     "data": {
      "text/plain": [
       "0"
      ]
     },
     "execution_count": 73,
     "metadata": {},
     "output_type": "execute_result"
    }
   ],
   "source": [
    "data['kitchen_area'].isnull().sum()"
   ]
  },
  {
   "cell_type": "code",
   "execution_count": 74,
   "metadata": {},
   "outputs": [
    {
     "data": {
      "text/plain": [
       "0"
      ]
     },
     "execution_count": 74,
     "metadata": {},
     "output_type": "execute_result"
    }
   ],
   "source": [
    "data['living_area'].isnull().sum()"
   ]
  },
  {
   "cell_type": "markdown",
   "metadata": {},
   "source": [
    "### Обработка столбца balcony"
   ]
  },
  {
   "cell_type": "markdown",
   "metadata": {},
   "source": [
    "❗️Нет никаких предпосылок к заполнению данных пропусков (была бы хотя бы нежилая площадь известна, однако, увы). Единственное, что можно сделать - присвоить 0 количество балконов объектам, расположенным на первом этаже. В нашей стране, к счастью для датасаентиста и несчастью домовладельа, балконы делать на 1 этаже не принято"
   ]
  },
  {
   "cell_type": "code",
   "execution_count": 75,
   "metadata": {},
   "outputs": [],
   "source": [
    "data.loc[(data['balcony'].isnull()) & (data['floor'] == 1), 'balcony'] = 0"
   ]
  },
  {
   "cell_type": "markdown",
   "metadata": {},
   "source": [
    "### Работа с типами данных"
   ]
  },
  {
   "cell_type": "code",
   "execution_count": 76,
   "metadata": {},
   "outputs": [
    {
     "data": {
      "text/plain": [
       "total_images              int64\n",
       "last_price              float64\n",
       "total_area              float64\n",
       "first_day_exposition     object\n",
       "rooms                     int64\n",
       "ceiling_height          float64\n",
       "floors_total            float64\n",
       "living_area             float64\n",
       "floor                     int64\n",
       "is_apartment               bool\n",
       "studio                     bool\n",
       "open_plan                  bool\n",
       "kitchen_area            float64\n",
       "balcony                 float64\n",
       "locality_name            object\n",
       "airports_nearest        float64\n",
       "cityCenters_nearest     float64\n",
       "parks_around3000        float64\n",
       "parks_nearest           float64\n",
       "ponds_around3000        float64\n",
       "ponds_nearest           float64\n",
       "days_exposition         float64\n",
       "dtype: object"
      ]
     },
     "execution_count": 76,
     "metadata": {},
     "output_type": "execute_result"
    }
   ],
   "source": [
    "data.dtypes"
   ]
  },
  {
   "cell_type": "markdown",
   "metadata": {},
   "source": [
    "*TO DO list:*\n",
    "* first_day_exposition to datetime\n",
    "* Следующие столбцы должны быть интовыми, но из-за значений Nan преобразование в int64 невозможно. Оставим все, как есть\n",
    "    * floors_total to int\n",
    "    * balcony to int\n",
    "    * parks_around3000 to int\n",
    "    * ponds_around3000 to int\n",
    "    * days_exposition int"
   ]
  },
  {
   "cell_type": "code",
   "execution_count": 77,
   "metadata": {},
   "outputs": [],
   "source": [
    "data['first_day_exposition'] = pd.to_datetime(data['first_day_exposition'],format='%Y-%m-%dT%H:%M:%S')"
   ]
  },
  {
   "cell_type": "markdown",
   "metadata": {},
   "source": [
    "❗️Нашел решение преобразования nan к инту, но не понимаю разницу в типах данных int64 и Int64. Буду признателен за ликбез!"
   ]
  },
  {
   "cell_type": "code",
   "execution_count": 78,
   "metadata": {},
   "outputs": [],
   "source": [
    "data['floors_total'] = data['floors_total'].astype(int)\n",
    "#data['balcony'] = data['balcony'].astype('Int64')\n",
    "#data['parks_around3000'] = data['parks_around3000'].astype('Int64')\n",
    "#data['ponds_around3000'] = data['ponds_around3000'].astype('Int64')\n",
    "#data['days_exposition'] = data['days_exposition'].astype('Int64')"
   ]
  },
  {
   "cell_type": "code",
   "execution_count": 79,
   "metadata": {},
   "outputs": [
    {
     "data": {
      "text/plain": [
       "first_day_exposition    datetime64[ns]\n",
       "floors_total                     int64\n",
       "dtype: object"
      ]
     },
     "execution_count": 79,
     "metadata": {},
     "output_type": "execute_result"
    }
   ],
   "source": [
    "data[['first_day_exposition', 'floors_total']].dtypes"
   ]
  },
  {
   "cell_type": "markdown",
   "metadata": {},
   "source": [
    "### Summary\n",
    "Подведем итоги предобработки данных:\n",
    "##### Признак last_price:\n",
    "* Исправили очевидную опечатку в данных\n",
    "* Избавились от части выбросов \n",
    "\n",
    "##### Признак is_apartment:\n",
    "* Заполнили пропуски значением False (так как, веротяно, поле выбора на сайте агрегаторе объявлений не является обязательным, в связи с чем возникают пропуски в датасете). \n",
    "    * Рекомендация отделу работы с сайтом: автоматически присваивать полю значение False, если отсутствует пользовательская информация\n",
    "\n",
    "##### Признаки parks_nearest, ponds_nearest, parks_around3000, ponds_around3000:\n",
    "* Заполнить географические данные не видится рациональным. Влияние данных признаков на стоимость не столь велико, чтобы покрыть издержки прикручивание гео-данных с карт. \n",
    "    * Возможное решение проблемы: написать скрипт на стороне бекэнда6 который бы рассчитывал необходимые параметры при заданном адресе\n",
    "    \n",
    "##### Признак locality_name:\n",
    "* Удалили строки с пропущенным значением по данному столбцу в связи с невозможностью восстановления истинных значений\n",
    "* Привели значения к единому стилю (только названия поселений; никаких букв ё, онли е), сократив список уникальных значений признака с 364 до 305\n",
    "    * Рекомендация отделу работы с сайтом: по данным сформировалось впечателние, что люди самостоятельно вбивают названия своих поселений, что не есть круто в 2к21 и порождает не только проблемы с данными, но и убогое оформление объявлений. Вместо текущей системы можно было бы запросить у отдела работы с Я.Картами список уникальных названий поселений РФ и предлагать пользователю выбор из drop-down menu -> не будет проблем с данными и пользователю не будет резать глаз разным оформлением на сайте\n",
    "    \n",
    "#####  Признак floors_total:\n",
    "* Исправили опечатку с 60 этажами в Кронштадте\n",
    "* Для 49 записей нашли записи с актуальной инфой по признаку из тех же домов (вероятность ошибок, конечно, была, но это лучше, чем просто потерять данные)\n",
    "* 36 строк пришлось удалить, так как восстановить истинные значения невозможно, а заполнение медианой/среедней приведет к несущественным, но искажениям в данных + кому нужно дробное число этажей, правда?\n",
    "\n",
    "##### Признак ceiling_height:\n",
    "* Удалили строки с высотой потолков ниже нормативной\n",
    "* Избавились от очевидных опечаток (высота потолков более 25 метров)\n",
    "* Удалили строки с высотой потолков выше 3.6м (максимальная средняя высота в сталинках по нормативам)\n",
    "* Заполнили часть пропусков медианой в похожих домах (по тому же принципу, что и с этажностью домов)\n",
    "* Все, что не удалось восстановить \"умными\" (или не очень) способами, заполнили медианой (во избежании влияния оставшихся аномальных значений)\n",
    "\n",
    "##### Признаки cityCenters_nearest, airports_nearest:\n",
    "* Немного, но заполнили пропуски медианным значением по населенному пункту\n",
    "\n",
    "##### Признак days_exposition:\n",
    "* Было пару идей, но корреляция не стоит свеч\n",
    "\n",
    "##### Признак total_area:\n",
    "* Избавились от выбросов\n",
    "\n",
    "##### Признаки kitchen_area и living_area\n",
    "* Удалили данные, не прошедшие проверку на адекватность\n",
    "* Заполнили пропуски медианой для разных категорий площадей (первый 0,25 квантиль по total_area; 0,25-0,75 квантиль и крайний 0,25 квантиль)\n",
    "    * Рекомендация отделу работы с сайтом: добавить проверки на дурачка в интерфейс сайта (к примеру, чтобы общая площадь квартиры не могла быть меньше суммы всех остальных площадей)\n",
    "    \n",
    "##### Признак balcony:\n",
    "* Заполнили пропуски нулем в объявлениях с недвижимостью на 1 этаже\n",
    "\n",
    "##### Признаки first_day_exposition, floors_total:\n",
    "* Была произведена замена типов данных на datetime и int64 соответсвенно"
   ]
  },
  {
   "cell_type": "markdown",
   "metadata": {},
   "source": [
    "## Обогащение данных"
   ]
  },
  {
   "cell_type": "code",
   "execution_count": 80,
   "metadata": {},
   "outputs": [],
   "source": [
    "# вычисление (с точностью до сотых) стоимости метра кв. \n",
    "square_meter_price = round(data['last_price'] / data['total_area'], 2)\n",
    "data['price_per_meter'] = square_meter_price"
   ]
  },
  {
   "cell_type": "code",
   "execution_count": 81,
   "metadata": {},
   "outputs": [],
   "source": [
    "# выделение дня недели, месяца и года публикации объявления\n",
    "year = data['first_day_exposition'].dt.year\n",
    "month = data['first_day_exposition'].dt.month\n",
    "weekday = data['first_day_exposition'].dt.weekday\n",
    "\n",
    "data['weekday'] = weekday\n",
    "data['month'] = month\n",
    "data['year'] = year"
   ]
  },
  {
   "cell_type": "code",
   "execution_count": 82,
   "metadata": {},
   "outputs": [],
   "source": [
    "# вычисление этажа квартиры; варианты — первый, последний, другой\n",
    "def which_floor(row):\n",
    "    if row['floor'] == 1:\n",
    "        return 'первый'\n",
    "    elif row['floor'] == row['floors_total']:\n",
    "        return 'последний'\n",
    "    else:\n",
    "        return 'другой'\n",
    "    \n",
    "    \n",
    "data['floor_type'] = data.apply(which_floor, axis=1)"
   ]
  },
  {
   "cell_type": "code",
   "execution_count": 83,
   "metadata": {},
   "outputs": [],
   "source": [
    "# вычисление соотношения жилой и общей площади, а также отношение площади кухни к общей\n",
    "data['living_ration'] = round(data['living_area'] / data['total_area'], 2)\n",
    "data['kitchen_ratio'] = round(data['kitchen_area'] / data['total_area'], 2)"
   ]
  },
  {
   "cell_type": "markdown",
   "metadata": {},
   "source": [
    "## Исследовательский анализ"
   ]
  },
  {
   "cell_type": "code",
   "execution_count": 84,
   "metadata": {},
   "outputs": [],
   "source": [
    "pd.options.display.float_format ='{:,.3f}'.format"
   ]
  },
  {
   "cell_type": "markdown",
   "metadata": {},
   "source": [
    "### Вопрос №1"
   ]
  },
  {
   "cell_type": "markdown",
   "metadata": {},
   "source": [
    "Изучите следующие параметры: площадь, цена, число комнат, высота потолков. Постройте гистограммы для каждого параметра."
   ]
  },
  {
   "cell_type": "code",
   "execution_count": 85,
   "metadata": {},
   "outputs": [
    {
     "data": {
      "text/html": [
       "<div>\n",
       "<style scoped>\n",
       "    .dataframe tbody tr th:only-of-type {\n",
       "        vertical-align: middle;\n",
       "    }\n",
       "\n",
       "    .dataframe tbody tr th {\n",
       "        vertical-align: top;\n",
       "    }\n",
       "\n",
       "    .dataframe thead th {\n",
       "        text-align: right;\n",
       "    }\n",
       "</style>\n",
       "<table border=\"1\" class=\"dataframe\">\n",
       "  <thead>\n",
       "    <tr style=\"text-align: right;\">\n",
       "      <th></th>\n",
       "      <th>total_area</th>\n",
       "      <th>last_price</th>\n",
       "      <th>rooms</th>\n",
       "      <th>ceiling_height</th>\n",
       "    </tr>\n",
       "  </thead>\n",
       "  <tbody>\n",
       "    <tr>\n",
       "      <td>count</td>\n",
       "      <td>22,712.000</td>\n",
       "      <td>22,712.000</td>\n",
       "      <td>22,712.000</td>\n",
       "      <td>22,712.000</td>\n",
       "    </tr>\n",
       "    <tr>\n",
       "      <td>mean</td>\n",
       "      <td>56.502</td>\n",
       "      <td>5,499,111.836</td>\n",
       "      <td>2.001</td>\n",
       "      <td>2.688</td>\n",
       "    </tr>\n",
       "    <tr>\n",
       "      <td>std</td>\n",
       "      <td>23.413</td>\n",
       "      <td>3,483,646.221</td>\n",
       "      <td>0.956</td>\n",
       "      <td>0.185</td>\n",
       "    </tr>\n",
       "    <tr>\n",
       "      <td>min</td>\n",
       "      <td>12.000</td>\n",
       "      <td>430,000.000</td>\n",
       "      <td>0.000</td>\n",
       "      <td>2.500</td>\n",
       "    </tr>\n",
       "    <tr>\n",
       "      <td>25%</td>\n",
       "      <td>40.000</td>\n",
       "      <td>3,400,000.000</td>\n",
       "      <td>1.000</td>\n",
       "      <td>2.570</td>\n",
       "    </tr>\n",
       "    <tr>\n",
       "      <td>50%</td>\n",
       "      <td>51.000</td>\n",
       "      <td>4,550,000.000</td>\n",
       "      <td>2.000</td>\n",
       "      <td>2.650</td>\n",
       "    </tr>\n",
       "    <tr>\n",
       "      <td>75%</td>\n",
       "      <td>67.200</td>\n",
       "      <td>6,500,000.000</td>\n",
       "      <td>3.000</td>\n",
       "      <td>2.750</td>\n",
       "    </tr>\n",
       "    <tr>\n",
       "      <td>max</td>\n",
       "      <td>175.000</td>\n",
       "      <td>25,000,000.000</td>\n",
       "      <td>6.000</td>\n",
       "      <td>3.600</td>\n",
       "    </tr>\n",
       "  </tbody>\n",
       "</table>\n",
       "</div>"
      ],
      "text/plain": [
       "       total_area     last_price      rooms  ceiling_height\n",
       "count  22,712.000     22,712.000 22,712.000      22,712.000\n",
       "mean       56.502  5,499,111.836      2.001           2.688\n",
       "std        23.413  3,483,646.221      0.956           0.185\n",
       "min        12.000    430,000.000      0.000           2.500\n",
       "25%        40.000  3,400,000.000      1.000           2.570\n",
       "50%        51.000  4,550,000.000      2.000           2.650\n",
       "75%        67.200  6,500,000.000      3.000           2.750\n",
       "max       175.000 25,000,000.000      6.000           3.600"
      ]
     },
     "execution_count": 85,
     "metadata": {},
     "output_type": "execute_result"
    }
   ],
   "source": [
    "data[['total_area', 'last_price', 'rooms', 'ceiling_height']].describe()"
   ]
  },
  {
   "cell_type": "code",
   "execution_count": 86,
   "metadata": {},
   "outputs": [],
   "source": [
    "def make_hist(df):\n",
    "    data=df\n",
    "    \n",
    "    fig, axes = plt.subplots(2,2,figsize=(13,8))\n",
    "\n",
    "    axes[0][0].hist(data['total_area'], bins=60)\n",
    "    axes[0][0].set_title('Распределение признака total_area')\n",
    "\n",
    "    axes[0][1].hist(data['rooms'], bins=6)\n",
    "    axes[0][1].set_title('Распределение признака rooms')\n",
    "\n",
    "    axes[1][0].hist(data['last_price'], bins=60)\n",
    "    axes[1][0].set_title('Распределение признака last_price')\n",
    "\n",
    "    axes[1][1].hist(data['ceiling_height'], bins=22)\n",
    "    axes[1][1].set_title('Распределение признака ceiling_height')\n",
    "\n",
    "    plt.show()"
   ]
  },
  {
   "cell_type": "code",
   "execution_count": 87,
   "metadata": {},
   "outputs": [
    {
     "data": {
      "image/png": "[encoded data removed]",
      "text/plain": [
       "<Figure size 936x576 with 4 Axes>"
      ]
     },
     "metadata": {
      "needs_background": "light"
     },
     "output_type": "display_data"
    }
   ],
   "source": [
    "make_hist(data)"
   ]
  },
  {
   "cell_type": "markdown",
   "metadata": {},
   "source": [
    "### Вопрос №2"
   ]
  },
  {
   "cell_type": "markdown",
   "metadata": {},
   "source": [
    "Изучите время продажи квартиры. Постройте гистограмму. Посчитайте среднее и медиану. Опишите, сколько обычно занимает продажа. Когда можно считать, что продажи прошли очень быстро, а когда необычно долго?"
   ]
  },
  {
   "cell_type": "code",
   "execution_count": 88,
   "metadata": {},
   "outputs": [
    {
     "data": {
      "image/png": "[encoded data removed]",
      "text/plain": [
       "<Figure size 432x288 with 1 Axes>"
      ]
     },
     "metadata": {
      "needs_background": "light"
     },
     "output_type": "display_data"
    }
   ],
   "source": [
    "data.hist('days_exposition', bins=50)\n",
    "plt.show()"
   ]
  },
  {
   "cell_type": "code",
   "execution_count": 89,
   "metadata": {},
   "outputs": [
    {
     "data": {
      "text/plain": [
       "count   19,750.000\n",
       "mean       178.164\n",
       "std        217.250\n",
       "min          1.000\n",
       "25%         44.000\n",
       "50%         94.000\n",
       "75%        226.000\n",
       "max      1,580.000\n",
       "Name: days_exposition, dtype: float64"
      ]
     },
     "execution_count": 89,
     "metadata": {},
     "output_type": "execute_result"
    }
   ],
   "source": [
    "data['days_exposition'].describe()"
   ]
  },
  {
   "cell_type": "code",
   "execution_count": 90,
   "metadata": {},
   "outputs": [
    {
     "data": {
      "image/png": "[encoded data removed]",
      "text/plain": [
       "<Figure size 432x288 with 1 Axes>"
      ]
     },
     "metadata": {
      "needs_background": "light"
     },
     "output_type": "display_data"
    }
   ],
   "source": [
    "data.boxplot('days_exposition')\n",
    "plt.show()"
   ]
  },
  {
   "cell_type": "markdown",
   "metadata": {},
   "source": [
    "❗️Выводы\n",
    "* В целом, если квартиру удалось продать за 1.5 месяца или меньше, можно с уверенностью сказать, что сделка произошла быстрее 75% зарегистрированных случаев;\n",
    "* Если длительность продажи квартиры составляет 1.5-3 месяца, сделка по-прежнему попадает в \"зеленую\" зону и закрыта быстрее 50% зарегистрированных случаев;\n",
    "* Если же клиент нашелся за 3-7 месяцев, вам явно стоило покрасивее оформить объявление и приобрести доп услуги на сервисе размещения объявлений для продвижения своего предложения, но, не стоит унывать, долгим такой срок не назовешь. Скорее \"умеренный\" и все еще быстрее 25% зарегистрированных случаев;\n",
    "* Если же вы не можете продать объект более 7 месяцев, плохие новости, это уже долговато...\n",
    "* Ну и рекордсменом можно стать, если сделку не удастся закрыть более чем за 14-16 месяцев"
   ]
  },
  {
   "cell_type": "markdown",
   "metadata": {},
   "source": [
    "### Вопрос №3"
   ]
  },
  {
   "cell_type": "markdown",
   "metadata": {},
   "source": [
    "Уберите редкие и выбивающиеся значения. Опишите, какие особенности обнаружили."
   ]
  },
  {
   "cell_type": "markdown",
   "metadata": {},
   "source": [
    "❗️Данный пункт был выполнен в блоке предобработки данных, а особенности описаны либо в процессе обработки, либо в Summary \\\n",
    "❗️❗️Не все выброосы подвергались удалению с целью сохранения общих зависимостей и отдельных классов недвижимости (к примеру, сталинки с высотоой потолков более 3 метров)"
   ]
  },
  {
   "cell_type": "markdown",
   "metadata": {},
   "source": [
    "### Вопрос №4"
   ]
  },
  {
   "cell_type": "markdown",
   "metadata": {},
   "source": [
    "Какие факторы больше всего влияют на стоимость квартиры? Изучите, зависит ли цена от площади, числа комнат, удалённости от центра. Изучите зависимость цены от того, на каком этаже расположена квартира: первом, последнем или другом. Также изучите зависимость от даты размещения: дня недели, месяца и года."
   ]
  },
  {
   "cell_type": "code",
   "execution_count": 91,
   "metadata": {},
   "outputs": [],
   "source": [
    "corr = round(abs(data.loc[:, data.columns != 'last_price'].corrwith(data['last_price'])), 3)"
   ]
  },
  {
   "cell_type": "code",
   "execution_count": 92,
   "metadata": {},
   "outputs": [
    {
     "data": {
      "text/plain": [
       "total_area            0.777\n",
       "price_per_meter       0.674\n",
       "kitchen_area          0.599\n",
       "living_area           0.583\n",
       "rooms                 0.481\n",
       "ceiling_height        0.461\n",
       "cityCenters_nearest   0.347\n",
       "ponds_around3000      0.187\n",
       "parks_around3000      0.172\n",
       "total_images          0.157\n",
       "dtype: float64"
      ]
     },
     "execution_count": 92,
     "metadata": {},
     "output_type": "execute_result"
    }
   ],
   "source": [
    "corr.nlargest(10)"
   ]
  },
  {
   "cell_type": "markdown",
   "metadata": {},
   "source": [
    "❗️Больше всего на цену влияет площадь, причем как общая, так и плозадь квартиры/жилой зоны, а так же количество комнат"
   ]
  },
  {
   "cell_type": "code",
   "execution_count": 93,
   "metadata": {},
   "outputs": [
    {
     "name": "stderr",
     "output_type": "stream",
     "text": [
      "/Users/ismailovrustam/opt/anaconda3/envs/practicum/lib/python3.7/site-packages/ipykernel_launcher.py:1: FutureWarning: \n",
      ".ix is deprecated. Please use\n",
      ".loc for label based indexing or\n",
      ".iloc for positional indexing\n",
      "\n",
      "See the documentation here:\n",
      "http://pandas.pydata.org/pandas-docs/stable/user_guide/indexing.html#ix-indexer-is-deprecated\n",
      "  \"\"\"Entry point for launching an IPython kernel.\n"
     ]
    },
    {
     "data": {
      "text/plain": [
       "total_area            0.777\n",
       "rooms                 0.481\n",
       "cityCenters_nearest   0.347\n",
       "dtype: float64"
      ]
     },
     "execution_count": 93,
     "metadata": {},
     "output_type": "execute_result"
    }
   ],
   "source": [
    "corr.ix[['total_area', 'rooms', 'cityCenters_nearest']]"
   ]
  },
  {
   "cell_type": "code",
   "execution_count": 94,
   "metadata": {},
   "outputs": [],
   "source": [
    "pivot_floors = data.pivot_table(index='floor_type', \n",
    "                 values='last_price', \n",
    "                 aggfunc={'last_price': ['count', 'mean', 'median']}\n",
    "                ).sort_values('median', ascending=False)"
   ]
  },
  {
   "cell_type": "markdown",
   "metadata": {},
   "source": [
    "❗️Квартиры на пером этаже в среднем стоят меньше всего; квартиры на последнем дороже, но все равно меньше, чем нечто среднее между первым и последним этажами"
   ]
  },
  {
   "cell_type": "code",
   "execution_count": 95,
   "metadata": {},
   "outputs": [],
   "source": [
    "pivot_year = data.pivot_table(index='year', \n",
    "                 values='last_price', \n",
    "                 aggfunc={'last_price': ['count', 'mean', 'median']}\n",
    "                ).sort_values('median', ascending=False)"
   ]
  },
  {
   "cell_type": "code",
   "execution_count": 96,
   "metadata": {},
   "outputs": [
    {
     "data": {
      "text/html": [
       "<div>\n",
       "<style scoped>\n",
       "    .dataframe tbody tr th:only-of-type {\n",
       "        vertical-align: middle;\n",
       "    }\n",
       "\n",
       "    .dataframe tbody tr th {\n",
       "        vertical-align: top;\n",
       "    }\n",
       "\n",
       "    .dataframe thead th {\n",
       "        text-align: right;\n",
       "    }\n",
       "</style>\n",
       "<table border=\"1\" class=\"dataframe\">\n",
       "  <thead>\n",
       "    <tr style=\"text-align: right;\">\n",
       "      <th></th>\n",
       "      <th>count</th>\n",
       "      <th>mean</th>\n",
       "      <th>median</th>\n",
       "    </tr>\n",
       "    <tr>\n",
       "      <th>year</th>\n",
       "      <th></th>\n",
       "      <th></th>\n",
       "      <th></th>\n",
       "    </tr>\n",
       "  </thead>\n",
       "  <tbody>\n",
       "    <tr>\n",
       "      <td>2014</td>\n",
       "      <td>120</td>\n",
       "      <td>8,743,235.750</td>\n",
       "      <td>7,182,500.000</td>\n",
       "    </tr>\n",
       "    <tr>\n",
       "      <td>2015</td>\n",
       "      <td>1095</td>\n",
       "      <td>6,252,699.647</td>\n",
       "      <td>5,100,000.000</td>\n",
       "    </tr>\n",
       "    <tr>\n",
       "      <td>2019</td>\n",
       "      <td>2771</td>\n",
       "      <td>5,816,482.783</td>\n",
       "      <td>5,000,000.000</td>\n",
       "    </tr>\n",
       "    <tr>\n",
       "      <td>2018</td>\n",
       "      <td>8246</td>\n",
       "      <td>5,354,323.903</td>\n",
       "      <td>4,500,000.000</td>\n",
       "    </tr>\n",
       "    <tr>\n",
       "      <td>2016</td>\n",
       "      <td>2630</td>\n",
       "      <td>5,475,769.230</td>\n",
       "      <td>4,450,000.000</td>\n",
       "    </tr>\n",
       "    <tr>\n",
       "      <td>2017</td>\n",
       "      <td>7850</td>\n",
       "      <td>5,392,284.311</td>\n",
       "      <td>4,400,000.000</td>\n",
       "    </tr>\n",
       "  </tbody>\n",
       "</table>\n",
       "</div>"
      ],
      "text/plain": [
       "      count          mean        median\n",
       "year                                   \n",
       "2014    120 8,743,235.750 7,182,500.000\n",
       "2015   1095 6,252,699.647 5,100,000.000\n",
       "2019   2771 5,816,482.783 5,000,000.000\n",
       "2018   8246 5,354,323.903 4,500,000.000\n",
       "2016   2630 5,475,769.230 4,450,000.000\n",
       "2017   7850 5,392,284.311 4,400,000.000"
      ]
     },
     "execution_count": 96,
     "metadata": {},
     "output_type": "execute_result"
    }
   ],
   "source": [
    "pivot_year"
   ]
  },
  {
   "cell_type": "code",
   "execution_count": 97,
   "metadata": {},
   "outputs": [],
   "source": [
    "pivot_month = data.pivot_table(index='month', \n",
    "                 values='last_price', \n",
    "                 aggfunc={'last_price': ['count', 'mean', 'median']}\n",
    "                ).sort_values('median', ascending=False)"
   ]
  },
  {
   "cell_type": "code",
   "execution_count": 98,
   "metadata": {},
   "outputs": [
    {
     "data": {
      "text/html": [
       "<div>\n",
       "<style scoped>\n",
       "    .dataframe tbody tr th:only-of-type {\n",
       "        vertical-align: middle;\n",
       "    }\n",
       "\n",
       "    .dataframe tbody tr th {\n",
       "        vertical-align: top;\n",
       "    }\n",
       "\n",
       "    .dataframe thead th {\n",
       "        text-align: right;\n",
       "    }\n",
       "</style>\n",
       "<table border=\"1\" class=\"dataframe\">\n",
       "  <thead>\n",
       "    <tr style=\"text-align: right;\">\n",
       "      <th></th>\n",
       "      <th>count</th>\n",
       "      <th>mean</th>\n",
       "      <th>median</th>\n",
       "    </tr>\n",
       "    <tr>\n",
       "      <th>month</th>\n",
       "      <th></th>\n",
       "      <th></th>\n",
       "      <th></th>\n",
       "    </tr>\n",
       "  </thead>\n",
       "  <tbody>\n",
       "    <tr>\n",
       "      <td>4</td>\n",
       "      <td>2285</td>\n",
       "      <td>5,611,139.009</td>\n",
       "      <td>4,700,000.000</td>\n",
       "    </tr>\n",
       "    <tr>\n",
       "      <td>9</td>\n",
       "      <td>1905</td>\n",
       "      <td>5,678,215.582</td>\n",
       "      <td>4,600,000.000</td>\n",
       "    </tr>\n",
       "    <tr>\n",
       "      <td>11</td>\n",
       "      <td>2272</td>\n",
       "      <td>5,562,741.719</td>\n",
       "      <td>4,600,000.000</td>\n",
       "    </tr>\n",
       "    <tr>\n",
       "      <td>12</td>\n",
       "      <td>1568</td>\n",
       "      <td>5,498,051.692</td>\n",
       "      <td>4,600,000.000</td>\n",
       "    </tr>\n",
       "    <tr>\n",
       "      <td>2</td>\n",
       "      <td>2535</td>\n",
       "      <td>5,506,088.514</td>\n",
       "      <td>4,599,000.000</td>\n",
       "    </tr>\n",
       "    <tr>\n",
       "      <td>3</td>\n",
       "      <td>2485</td>\n",
       "      <td>5,467,440.670</td>\n",
       "      <td>4,575,000.000</td>\n",
       "    </tr>\n",
       "    <tr>\n",
       "      <td>1</td>\n",
       "      <td>1430</td>\n",
       "      <td>5,504,064.820</td>\n",
       "      <td>4,500,000.000</td>\n",
       "    </tr>\n",
       "    <tr>\n",
       "      <td>5</td>\n",
       "      <td>1212</td>\n",
       "      <td>5,480,256.529</td>\n",
       "      <td>4,500,000.000</td>\n",
       "    </tr>\n",
       "    <tr>\n",
       "      <td>7</td>\n",
       "      <td>1612</td>\n",
       "      <td>5,463,930.962</td>\n",
       "      <td>4,500,000.000</td>\n",
       "    </tr>\n",
       "    <tr>\n",
       "      <td>8</td>\n",
       "      <td>1674</td>\n",
       "      <td>5,450,908.533</td>\n",
       "      <td>4,500,000.000</td>\n",
       "    </tr>\n",
       "    <tr>\n",
       "      <td>10</td>\n",
       "      <td>2049</td>\n",
       "      <td>5,460,471.892</td>\n",
       "      <td>4,500,000.000</td>\n",
       "    </tr>\n",
       "    <tr>\n",
       "      <td>6</td>\n",
       "      <td>1685</td>\n",
       "      <td>5,233,998.759</td>\n",
       "      <td>4,350,000.000</td>\n",
       "    </tr>\n",
       "  </tbody>\n",
       "</table>\n",
       "</div>"
      ],
      "text/plain": [
       "       count          mean        median\n",
       "month                                   \n",
       "4       2285 5,611,139.009 4,700,000.000\n",
       "9       1905 5,678,215.582 4,600,000.000\n",
       "11      2272 5,562,741.719 4,600,000.000\n",
       "12      1568 5,498,051.692 4,600,000.000\n",
       "2       2535 5,506,088.514 4,599,000.000\n",
       "3       2485 5,467,440.670 4,575,000.000\n",
       "1       1430 5,504,064.820 4,500,000.000\n",
       "5       1212 5,480,256.529 4,500,000.000\n",
       "7       1612 5,463,930.962 4,500,000.000\n",
       "8       1674 5,450,908.533 4,500,000.000\n",
       "10      2049 5,460,471.892 4,500,000.000\n",
       "6       1685 5,233,998.759 4,350,000.000"
      ]
     },
     "execution_count": 98,
     "metadata": {},
     "output_type": "execute_result"
    }
   ],
   "source": [
    "pivot_month"
   ]
  },
  {
   "cell_type": "code",
   "execution_count": 99,
   "metadata": {},
   "outputs": [],
   "source": [
    "pivot_weekday = data.pivot_table(index='weekday', \n",
    "                 values='last_price', \n",
    "                 aggfunc={'last_price': ['count', 'mean', 'median']}\n",
    "                ).sort_values('median', ascending=False)"
   ]
  },
  {
   "cell_type": "code",
   "execution_count": 100,
   "metadata": {},
   "outputs": [
    {
     "data": {
      "text/html": [
       "<div>\n",
       "<style scoped>\n",
       "    .dataframe tbody tr th:only-of-type {\n",
       "        vertical-align: middle;\n",
       "    }\n",
       "\n",
       "    .dataframe tbody tr th {\n",
       "        vertical-align: top;\n",
       "    }\n",
       "\n",
       "    .dataframe thead th {\n",
       "        text-align: right;\n",
       "    }\n",
       "</style>\n",
       "<table border=\"1\" class=\"dataframe\">\n",
       "  <thead>\n",
       "    <tr style=\"text-align: right;\">\n",
       "      <th></th>\n",
       "      <th>count</th>\n",
       "      <th>mean</th>\n",
       "      <th>median</th>\n",
       "    </tr>\n",
       "    <tr>\n",
       "      <th>weekday</th>\n",
       "      <th></th>\n",
       "      <th></th>\n",
       "      <th></th>\n",
       "    </tr>\n",
       "  </thead>\n",
       "  <tbody>\n",
       "    <tr>\n",
       "      <td>1</td>\n",
       "      <td>4029</td>\n",
       "      <td>5,546,509.526</td>\n",
       "      <td>4,650,000.000</td>\n",
       "    </tr>\n",
       "    <tr>\n",
       "      <td>2</td>\n",
       "      <td>3801</td>\n",
       "      <td>5,552,631.128</td>\n",
       "      <td>4,600,000.000</td>\n",
       "    </tr>\n",
       "    <tr>\n",
       "      <td>0</td>\n",
       "      <td>3455</td>\n",
       "      <td>5,493,851.674</td>\n",
       "      <td>4,575,000.000</td>\n",
       "    </tr>\n",
       "    <tr>\n",
       "      <td>3</td>\n",
       "      <td>4085</td>\n",
       "      <td>5,578,525.666</td>\n",
       "      <td>4,550,000.000</td>\n",
       "    </tr>\n",
       "    <tr>\n",
       "      <td>4</td>\n",
       "      <td>3852</td>\n",
       "      <td>5,461,819.384</td>\n",
       "      <td>4,500,000.000</td>\n",
       "    </tr>\n",
       "    <tr>\n",
       "      <td>5</td>\n",
       "      <td>1864</td>\n",
       "      <td>5,311,254.943</td>\n",
       "      <td>4,500,000.000</td>\n",
       "    </tr>\n",
       "    <tr>\n",
       "      <td>6</td>\n",
       "      <td>1626</td>\n",
       "      <td>5,371,923.654</td>\n",
       "      <td>4,500,000.000</td>\n",
       "    </tr>\n",
       "  </tbody>\n",
       "</table>\n",
       "</div>"
      ],
      "text/plain": [
       "         count          mean        median\n",
       "weekday                                   \n",
       "1         4029 5,546,509.526 4,650,000.000\n",
       "2         3801 5,552,631.128 4,600,000.000\n",
       "0         3455 5,493,851.674 4,575,000.000\n",
       "3         4085 5,578,525.666 4,550,000.000\n",
       "4         3852 5,461,819.384 4,500,000.000\n",
       "5         1864 5,311,254.943 4,500,000.000\n",
       "6         1626 5,371,923.654 4,500,000.000"
      ]
     },
     "execution_count": 100,
     "metadata": {},
     "output_type": "execute_result"
    }
   ],
   "source": [
    "pivot_weekday"
   ]
  },
  {
   "cell_type": "code",
   "execution_count": 101,
   "metadata": {},
   "outputs": [
    {
     "data": {
      "image/png": "[encoded data removed]",
      "text/plain": [
       "<Figure size 936x576 with 4 Axes>"
      ]
     },
     "metadata": {
      "needs_background": "light"
     },
     "output_type": "display_data"
    }
   ],
   "source": [
    "fig, axes = plt.subplots(2,2,figsize=(13,8))\n",
    "\n",
    "axes[0][0].plot(pivot_year['median'].sort_index())\n",
    "axes[0][0].set_title('Динамика медианной цены по годам')\n",
    "\n",
    "axes[0][1].plot(pivot_month['median'].sort_index())\n",
    "axes[0][1].set_title('Динамика медианной цены по месяцам')\n",
    "\n",
    "axes[1][0].plot(pivot_weekday['median'].sort_index())\n",
    "axes[1][0].set_title('Динамика медианной цены по дням недели')\n",
    "\n",
    "axes[1][1].plot(pivot_floors['median'].sort_index())\n",
    "axes[1][1].set_title('Динамика медианной цены по этажам')\n",
    "\n",
    "plt.show()"
   ]
  },
  {
   "cell_type": "markdown",
   "metadata": {},
   "source": [
    "❗️\n",
    "1. Медиана по годам: пока сложно говорить о какой-то явной зависимости между годом размещения и ценой недвижимости, скорее на данный момент имеется зависимость от количества данных за выделенный год, так как есть тенденция к уменьшению медианного показателя с ростом выборки\n",
    "2. Медиана по месяцам: в данном случае выборки получились более равномерными, поэтому график +- тражает реальное положение дел. К середине года наблюдается спад медианной стоимости с последующим восстановлением к апрелю месяцу (пик)\n",
    "3. Медиана по дням недели: понедельник - загруженный день, что сказать"
   ]
  },
  {
   "cell_type": "markdown",
   "metadata": {},
   "source": [
    "### Вопрос №5"
   ]
  },
  {
   "cell_type": "markdown",
   "metadata": {},
   "source": [
    "Выберите 10 населённых пунктов с наибольшим числом объявлений. Посчитайте среднюю цену квадратного метра в этих населённых пунктах. Выделите среди них населённые пункты с самой высокой и низкой стоимостью жилья. Эти данные можно найти по имени в столбце 'locality_name'."
   ]
  },
  {
   "cell_type": "code",
   "execution_count": 102,
   "metadata": {},
   "outputs": [],
   "source": [
    "pivot_locality = data.pivot_table(index='locality_name', \n",
    "                 values='price_per_meter', \n",
    "                 aggfunc={'price_per_meter': ['count', 'mean']}\n",
    "                ).sort_values('count', ascending=False)[:10]"
   ]
  },
  {
   "cell_type": "code",
   "execution_count": 103,
   "metadata": {},
   "outputs": [
    {
     "data": {
      "text/html": [
       "<div>\n",
       "<style scoped>\n",
       "    .dataframe tbody tr th:only-of-type {\n",
       "        vertical-align: middle;\n",
       "    }\n",
       "\n",
       "    .dataframe tbody tr th {\n",
       "        vertical-align: top;\n",
       "    }\n",
       "\n",
       "    .dataframe thead th {\n",
       "        text-align: right;\n",
       "    }\n",
       "</style>\n",
       "<table border=\"1\" class=\"dataframe\">\n",
       "  <thead>\n",
       "    <tr style=\"text-align: right;\">\n",
       "      <th></th>\n",
       "      <th>count</th>\n",
       "      <th>mean</th>\n",
       "    </tr>\n",
       "    <tr>\n",
       "      <th>locality_name</th>\n",
       "      <th></th>\n",
       "      <th></th>\n",
       "    </tr>\n",
       "  </thead>\n",
       "  <tbody>\n",
       "    <tr>\n",
       "      <td>Санкт-Петербург</td>\n",
       "      <td>14910</td>\n",
       "      <td>109,693.769</td>\n",
       "    </tr>\n",
       "    <tr>\n",
       "      <td>Мурино</td>\n",
       "      <td>582</td>\n",
       "      <td>85,950.425</td>\n",
       "    </tr>\n",
       "    <tr>\n",
       "      <td>Кудрово</td>\n",
       "      <td>469</td>\n",
       "      <td>95,261.963</td>\n",
       "    </tr>\n",
       "    <tr>\n",
       "      <td>Шушары</td>\n",
       "      <td>437</td>\n",
       "      <td>78,524.318</td>\n",
       "    </tr>\n",
       "    <tr>\n",
       "      <td>Всеволожск</td>\n",
       "      <td>392</td>\n",
       "      <td>68,503.086</td>\n",
       "    </tr>\n",
       "    <tr>\n",
       "      <td>Пушкин</td>\n",
       "      <td>353</td>\n",
       "      <td>101,911.255</td>\n",
       "    </tr>\n",
       "    <tr>\n",
       "      <td>Колпино</td>\n",
       "      <td>335</td>\n",
       "      <td>75,408.563</td>\n",
       "    </tr>\n",
       "    <tr>\n",
       "      <td>Парголово</td>\n",
       "      <td>324</td>\n",
       "      <td>90,321.830</td>\n",
       "    </tr>\n",
       "    <tr>\n",
       "      <td>Гатчина</td>\n",
       "      <td>302</td>\n",
       "      <td>68,678.930</td>\n",
       "    </tr>\n",
       "    <tr>\n",
       "      <td>Выборг</td>\n",
       "      <td>229</td>\n",
       "      <td>58,121.988</td>\n",
       "    </tr>\n",
       "  </tbody>\n",
       "</table>\n",
       "</div>"
      ],
      "text/plain": [
       "                 count        mean\n",
       "locality_name                     \n",
       "Санкт-Петербург  14910 109,693.769\n",
       "Мурино             582  85,950.425\n",
       "Кудрово            469  95,261.963\n",
       "Шушары             437  78,524.318\n",
       "Всеволожск         392  68,503.086\n",
       "Пушкин             353 101,911.255\n",
       "Колпино            335  75,408.563\n",
       "Парголово          324  90,321.830\n",
       "Гатчина            302  68,678.930\n",
       "Выборг             229  58,121.988"
      ]
     },
     "execution_count": 103,
     "metadata": {},
     "output_type": "execute_result"
    }
   ],
   "source": [
    "pivot_locality"
   ]
  },
  {
   "cell_type": "code",
   "execution_count": 104,
   "metadata": {},
   "outputs": [],
   "source": [
    "pivot_locality_first = round(pivot_locality.iloc[0].loc['mean'], 2)\n",
    "pivot_locality_last = round(pivot_locality.iloc[-1].loc['mean'], 2)"
   ]
  },
  {
   "cell_type": "code",
   "execution_count": 105,
   "metadata": {},
   "outputs": [
    {
     "data": {
      "text/plain": [
       "'Средняя стоимость квадратного метра в Санкт-Петербург = 109693.77'"
      ]
     },
     "execution_count": 105,
     "metadata": {},
     "output_type": "execute_result"
    }
   ],
   "source": [
    "f'Средняя стоимость квадратного метра в {pivot_locality.iloc[0].name} = {pivot_locality_first}'"
   ]
  },
  {
   "cell_type": "code",
   "execution_count": 106,
   "metadata": {},
   "outputs": [
    {
     "data": {
      "text/plain": [
       "'Средняя стоимость квадратного метра в Выборг = 58121.99'"
      ]
     },
     "execution_count": 106,
     "metadata": {},
     "output_type": "execute_result"
    }
   ],
   "source": [
    "f'Средняя стоимость квадратного метра в {pivot_locality.iloc[-1].name} = {pivot_locality_last}'"
   ]
  },
  {
   "cell_type": "markdown",
   "metadata": {},
   "source": [
    "### Вопрос №6"
   ]
  },
  {
   "cell_type": "markdown",
   "metadata": {},
   "source": [
    "Изучите предложения квартир: для каждой квартиры есть информация о расстоянии до центра. Выделите квартиры в Санкт-Петербурге ('locality_name'). Ваша задача — выяснить, какая область входит в центр. Создайте столбец с расстоянием до центра в километрах: округлите до целых значений. После этого посчитайте среднюю цену для каждого километра. Постройте график: он должен показывать, как цена зависит от удалённости от центра. Определите границу, где график сильно меняется — это и будет центральная зона."
   ]
  },
  {
   "cell_type": "code",
   "execution_count": 107,
   "metadata": {},
   "outputs": [
    {
     "data": {
      "text/html": [
       "<div>\n",
       "<style scoped>\n",
       "    .dataframe tbody tr th:only-of-type {\n",
       "        vertical-align: middle;\n",
       "    }\n",
       "\n",
       "    .dataframe tbody tr th {\n",
       "        vertical-align: top;\n",
       "    }\n",
       "\n",
       "    .dataframe thead th {\n",
       "        text-align: right;\n",
       "    }\n",
       "</style>\n",
       "<table border=\"1\" class=\"dataframe\">\n",
       "  <thead>\n",
       "    <tr style=\"text-align: right;\">\n",
       "      <th></th>\n",
       "      <th>total_images</th>\n",
       "      <th>last_price</th>\n",
       "      <th>total_area</th>\n",
       "      <th>first_day_exposition</th>\n",
       "      <th>rooms</th>\n",
       "      <th>ceiling_height</th>\n",
       "      <th>floors_total</th>\n",
       "      <th>living_area</th>\n",
       "      <th>floor</th>\n",
       "      <th>is_apartment</th>\n",
       "      <th>...</th>\n",
       "      <th>ponds_around3000</th>\n",
       "      <th>ponds_nearest</th>\n",
       "      <th>days_exposition</th>\n",
       "      <th>price_per_meter</th>\n",
       "      <th>weekday</th>\n",
       "      <th>month</th>\n",
       "      <th>year</th>\n",
       "      <th>floor_type</th>\n",
       "      <th>living_ration</th>\n",
       "      <th>kitchen_ratio</th>\n",
       "    </tr>\n",
       "  </thead>\n",
       "  <tbody>\n",
       "    <tr>\n",
       "      <td>0</td>\n",
       "      <td>20</td>\n",
       "      <td>13,000,000.000</td>\n",
       "      <td>108.000</td>\n",
       "      <td>2019-03-07</td>\n",
       "      <td>3</td>\n",
       "      <td>2.700</td>\n",
       "      <td>16</td>\n",
       "      <td>51.000</td>\n",
       "      <td>8</td>\n",
       "      <td>False</td>\n",
       "      <td>...</td>\n",
       "      <td>2.000</td>\n",
       "      <td>755.000</td>\n",
       "      <td>nan</td>\n",
       "      <td>120,370.370</td>\n",
       "      <td>3</td>\n",
       "      <td>3</td>\n",
       "      <td>2019</td>\n",
       "      <td>другой</td>\n",
       "      <td>0.470</td>\n",
       "      <td>0.230</td>\n",
       "    </tr>\n",
       "    <tr>\n",
       "      <td>2</td>\n",
       "      <td>10</td>\n",
       "      <td>5,196,000.000</td>\n",
       "      <td>56.000</td>\n",
       "      <td>2015-08-20</td>\n",
       "      <td>2</td>\n",
       "      <td>2.650</td>\n",
       "      <td>5</td>\n",
       "      <td>34.300</td>\n",
       "      <td>4</td>\n",
       "      <td>False</td>\n",
       "      <td>...</td>\n",
       "      <td>2.000</td>\n",
       "      <td>574.000</td>\n",
       "      <td>558.000</td>\n",
       "      <td>92,785.710</td>\n",
       "      <td>3</td>\n",
       "      <td>8</td>\n",
       "      <td>2015</td>\n",
       "      <td>другой</td>\n",
       "      <td>0.610</td>\n",
       "      <td>0.150</td>\n",
       "    </tr>\n",
       "    <tr>\n",
       "      <td>4</td>\n",
       "      <td>2</td>\n",
       "      <td>10,000,000.000</td>\n",
       "      <td>100.000</td>\n",
       "      <td>2018-06-19</td>\n",
       "      <td>2</td>\n",
       "      <td>3.030</td>\n",
       "      <td>14</td>\n",
       "      <td>32.000</td>\n",
       "      <td>13</td>\n",
       "      <td>False</td>\n",
       "      <td>...</td>\n",
       "      <td>1.000</td>\n",
       "      <td>48.000</td>\n",
       "      <td>121.000</td>\n",
       "      <td>100,000.000</td>\n",
       "      <td>1</td>\n",
       "      <td>6</td>\n",
       "      <td>2018</td>\n",
       "      <td>другой</td>\n",
       "      <td>0.320</td>\n",
       "      <td>0.410</td>\n",
       "    </tr>\n",
       "    <tr>\n",
       "      <td>7</td>\n",
       "      <td>5</td>\n",
       "      <td>7,915,000.000</td>\n",
       "      <td>71.600</td>\n",
       "      <td>2019-04-18</td>\n",
       "      <td>2</td>\n",
       "      <td>2.650</td>\n",
       "      <td>24</td>\n",
       "      <td>10.024</td>\n",
       "      <td>22</td>\n",
       "      <td>False</td>\n",
       "      <td>...</td>\n",
       "      <td>0.000</td>\n",
       "      <td>nan</td>\n",
       "      <td>nan</td>\n",
       "      <td>110,544.690</td>\n",
       "      <td>3</td>\n",
       "      <td>4</td>\n",
       "      <td>2019</td>\n",
       "      <td>другой</td>\n",
       "      <td>0.140</td>\n",
       "      <td>0.260</td>\n",
       "    </tr>\n",
       "    <tr>\n",
       "      <td>9</td>\n",
       "      <td>18</td>\n",
       "      <td>5,400,000.000</td>\n",
       "      <td>61.000</td>\n",
       "      <td>2017-02-26</td>\n",
       "      <td>3</td>\n",
       "      <td>2.500</td>\n",
       "      <td>9</td>\n",
       "      <td>43.600</td>\n",
       "      <td>7</td>\n",
       "      <td>False</td>\n",
       "      <td>...</td>\n",
       "      <td>0.000</td>\n",
       "      <td>nan</td>\n",
       "      <td>289.000</td>\n",
       "      <td>88,524.590</td>\n",
       "      <td>6</td>\n",
       "      <td>2</td>\n",
       "      <td>2017</td>\n",
       "      <td>другой</td>\n",
       "      <td>0.710</td>\n",
       "      <td>0.110</td>\n",
       "    </tr>\n",
       "  </tbody>\n",
       "</table>\n",
       "<p>5 rows × 29 columns</p>\n",
       "</div>"
      ],
      "text/plain": [
       "   total_images     last_price  total_area first_day_exposition  rooms  \\\n",
       "0            20 13,000,000.000     108.000           2019-03-07      3   \n",
       "2            10  5,196,000.000      56.000           2015-08-20      2   \n",
       "4             2 10,000,000.000     100.000           2018-06-19      2   \n",
       "7             5  7,915,000.000      71.600           2019-04-18      2   \n",
       "9            18  5,400,000.000      61.000           2017-02-26      3   \n",
       "\n",
       "   ceiling_height  floors_total  living_area  floor  is_apartment  ...  \\\n",
       "0           2.700            16       51.000      8         False  ...   \n",
       "2           2.650             5       34.300      4         False  ...   \n",
       "4           3.030            14       32.000     13         False  ...   \n",
       "7           2.650            24       10.024     22         False  ...   \n",
       "9           2.500             9       43.600      7         False  ...   \n",
       "\n",
       "   ponds_around3000  ponds_nearest  days_exposition  price_per_meter weekday  \\\n",
       "0             2.000        755.000              nan      120,370.370       3   \n",
       "2             2.000        574.000          558.000       92,785.710       3   \n",
       "4             1.000         48.000          121.000      100,000.000       1   \n",
       "7             0.000            nan              nan      110,544.690       3   \n",
       "9             0.000            nan          289.000       88,524.590       6   \n",
       "\n",
       "   month  year  floor_type  living_ration  kitchen_ratio  \n",
       "0      3  2019      другой          0.470          0.230  \n",
       "2      8  2015      другой          0.610          0.150  \n",
       "4      6  2018      другой          0.320          0.410  \n",
       "7      4  2019      другой          0.140          0.260  \n",
       "9      2  2017      другой          0.710          0.110  \n",
       "\n",
       "[5 rows x 29 columns]"
      ]
     },
     "execution_count": 107,
     "metadata": {},
     "output_type": "execute_result"
    }
   ],
   "source": [
    "data.query('locality_name == \"Санкт-Петербург\"').head()"
   ]
  },
  {
   "cell_type": "code",
   "execution_count": 108,
   "metadata": {},
   "outputs": [],
   "source": [
    "data['cityCenters_nearest_km'] = round(data['cityCenters_nearest'] / 1000, 0).astype('Int64')"
   ]
  },
  {
   "cell_type": "code",
   "execution_count": 109,
   "metadata": {},
   "outputs": [],
   "source": [
    "citycenter_pivot = data.pivot_table(index='cityCenters_nearest_km', \n",
    "                 values='last_price', \n",
    "                 aggfunc={'last_price': ['mean', 'count']})"
   ]
  },
  {
   "cell_type": "code",
   "execution_count": 110,
   "metadata": {},
   "outputs": [
    {
     "data": {
      "image/png": "[encoded data removed]",
      "text/plain": [
       "<Figure size 936x576 with 2 Axes>"
      ]
     },
     "metadata": {
      "needs_background": "light"
     },
     "output_type": "display_data"
    }
   ],
   "source": [
    "citycenter_pivot.plot(figsize=(13,8), grid=True, subplots=['last_price', 'count'],\n",
    "                      title=['Количество объявлений на км', 'Средняя цена на км'])\n",
    "plt.ticklabel_format(style = 'plain')\n",
    "plt.xticks(np.arange(0, data['cityCenters_nearest_km'].max(), 5))\n",
    "plt.show()"
   ]
  },
  {
   "cell_type": "markdown",
   "metadata": {},
   "source": [
    "❗️Судя по графику, центр города описывается 5км радиусом, так как именно после этого значения начинается существенное падение стоимости недвижимости"
   ]
  },
  {
   "cell_type": "markdown",
   "metadata": {},
   "source": [
    "### Вопрос №7"
   ]
  },
  {
   "cell_type": "markdown",
   "metadata": {},
   "source": [
    "Выделите сегмент квартир в центре. Проанализируйте эту территорию и изучите следующие параметры: площадь, цена, число комнат, высота потолков. Также выделите факторы, которые влияют на стоимость квартиры (число комнат, этаж, удалённость от центра, дата размещения объявления). Сделайте выводы. Отличаются ли они от общих выводов по всему городу?"
   ]
  },
  {
   "cell_type": "code",
   "execution_count": 111,
   "metadata": {},
   "outputs": [],
   "source": [
    "center_data = data[data['cityCenters_nearest_km'] <= 5]"
   ]
  },
  {
   "cell_type": "code",
   "execution_count": 112,
   "metadata": {},
   "outputs": [
    {
     "data": {
      "image/png": "[encoded data removed]",
      "text/plain": [
       "<Figure size 936x576 with 4 Axes>"
      ]
     },
     "metadata": {
      "needs_background": "light"
     },
     "output_type": "display_data"
    }
   ],
   "source": [
    "make_hist(center_data)"
   ]
  },
  {
   "cell_type": "code",
   "execution_count": 113,
   "metadata": {},
   "outputs": [
    {
     "data": {
      "image/png": "[encoded data removed]",
      "text/plain": [
       "<Figure size 936x576 with 4 Axes>"
      ]
     },
     "metadata": {
      "needs_background": "light"
     },
     "output_type": "display_data"
    }
   ],
   "source": [
    "make_hist(data)"
   ]
  },
  {
   "cell_type": "markdown",
   "metadata": {},
   "source": [
    "❗️Различия бросаются в глаза. Сегмент квартир в центре соответсвует известному девизу \"Быстрее, выше, сильнее!\". Хотя в нашем случае уместнее было бы \"Больше, выше, дороже\". Действительно, по всем графикам в сегменте квартир в центре видно смещение пиковых значений дальше от начала координат, что отправляет нас к наследию былых лет и осознанию того6 что муравейнички уже не те"
   ]
  },
  {
   "cell_type": "code",
   "execution_count": 114,
   "metadata": {},
   "outputs": [
    {
     "data": {
      "text/plain": [
       "rooms                  0.481\n",
       "floor                  0.096\n",
       "cityCenters_nearest   -0.347\n",
       "dtype: float64"
      ]
     },
     "execution_count": 114,
     "metadata": {},
     "output_type": "execute_result"
    }
   ],
   "source": [
    "data[['rooms', 'floor', 'cityCenters_nearest']].corrwith(data['last_price'])"
   ]
  },
  {
   "cell_type": "code",
   "execution_count": 115,
   "metadata": {},
   "outputs": [
    {
     "data": {
      "text/plain": [
       "rooms                  0.407\n",
       "floor                  0.166\n",
       "cityCenters_nearest   -0.029\n",
       "dtype: float64"
      ]
     },
     "execution_count": 115,
     "metadata": {},
     "output_type": "execute_result"
    }
   ],
   "source": [
    "center_data[['rooms', 'floor', 'cityCenters_nearest']].corrwith(data['last_price'])"
   ]
  },
  {
   "cell_type": "code",
   "execution_count": 116,
   "metadata": {},
   "outputs": [
    {
     "data": {
      "text/html": [
       "<div>\n",
       "<style scoped>\n",
       "    .dataframe tbody tr th:only-of-type {\n",
       "        vertical-align: middle;\n",
       "    }\n",
       "\n",
       "    .dataframe tbody tr th {\n",
       "        vertical-align: top;\n",
       "    }\n",
       "\n",
       "    .dataframe thead th {\n",
       "        text-align: right;\n",
       "    }\n",
       "</style>\n",
       "<table border=\"1\" class=\"dataframe\">\n",
       "  <thead>\n",
       "    <tr style=\"text-align: right;\">\n",
       "      <th></th>\n",
       "      <th>rooms</th>\n",
       "      <th>floor</th>\n",
       "      <th>cityCenters_nearest</th>\n",
       "    </tr>\n",
       "  </thead>\n",
       "  <tbody>\n",
       "    <tr>\n",
       "      <td>mean</td>\n",
       "      <td>2.001</td>\n",
       "      <td>5.914</td>\n",
       "      <td>14,511.074</td>\n",
       "    </tr>\n",
       "    <tr>\n",
       "      <td>min</td>\n",
       "      <td>0.000</td>\n",
       "      <td>1.000</td>\n",
       "      <td>287.000</td>\n",
       "    </tr>\n",
       "    <tr>\n",
       "      <td>50%</td>\n",
       "      <td>2.000</td>\n",
       "      <td>4.000</td>\n",
       "      <td>13,265.000</td>\n",
       "    </tr>\n",
       "    <tr>\n",
       "      <td>max</td>\n",
       "      <td>6.000</td>\n",
       "      <td>33.000</td>\n",
       "      <td>65,968.000</td>\n",
       "    </tr>\n",
       "  </tbody>\n",
       "</table>\n",
       "</div>"
      ],
      "text/plain": [
       "      rooms  floor  cityCenters_nearest\n",
       "mean  2.001  5.914           14,511.074\n",
       "min   0.000  1.000              287.000\n",
       "50%   2.000  4.000           13,265.000\n",
       "max   6.000 33.000           65,968.000"
      ]
     },
     "execution_count": 116,
     "metadata": {},
     "output_type": "execute_result"
    }
   ],
   "source": [
    "data[\n",
    "    ['rooms', 'floor', 'cityCenters_nearest']\n",
    "           ].describe().loc[['mean', 'min', '50%', 'max'], :]"
   ]
  },
  {
   "cell_type": "code",
   "execution_count": 117,
   "metadata": {},
   "outputs": [
    {
     "data": {
      "text/html": [
       "<div>\n",
       "<style scoped>\n",
       "    .dataframe tbody tr th:only-of-type {\n",
       "        vertical-align: middle;\n",
       "    }\n",
       "\n",
       "    .dataframe tbody tr th {\n",
       "        vertical-align: top;\n",
       "    }\n",
       "\n",
       "    .dataframe thead th {\n",
       "        text-align: right;\n",
       "    }\n",
       "</style>\n",
       "<table border=\"1\" class=\"dataframe\">\n",
       "  <thead>\n",
       "    <tr style=\"text-align: right;\">\n",
       "      <th></th>\n",
       "      <th>rooms</th>\n",
       "      <th>floor</th>\n",
       "      <th>cityCenters_nearest</th>\n",
       "    </tr>\n",
       "  </thead>\n",
       "  <tbody>\n",
       "    <tr>\n",
       "      <td>mean</td>\n",
       "      <td>2.700</td>\n",
       "      <td>3.821</td>\n",
       "      <td>3,820.715</td>\n",
       "    </tr>\n",
       "    <tr>\n",
       "      <td>min</td>\n",
       "      <td>0.000</td>\n",
       "      <td>1.000</td>\n",
       "      <td>287.000</td>\n",
       "    </tr>\n",
       "    <tr>\n",
       "      <td>50%</td>\n",
       "      <td>3.000</td>\n",
       "      <td>3.000</td>\n",
       "      <td>4,165.500</td>\n",
       "    </tr>\n",
       "    <tr>\n",
       "      <td>max</td>\n",
       "      <td>6.000</td>\n",
       "      <td>23.000</td>\n",
       "      <td>5,498.000</td>\n",
       "    </tr>\n",
       "  </tbody>\n",
       "</table>\n",
       "</div>"
      ],
      "text/plain": [
       "      rooms  floor  cityCenters_nearest\n",
       "mean  2.700  3.821            3,820.715\n",
       "min   0.000  1.000              287.000\n",
       "50%   3.000  3.000            4,165.500\n",
       "max   6.000 23.000            5,498.000"
      ]
     },
     "execution_count": 117,
     "metadata": {},
     "output_type": "execute_result"
    }
   ],
   "source": [
    "center_data[\n",
    "    ['rooms', 'floor', 'cityCenters_nearest']\n",
    "           ].describe().loc[['mean', 'min', '50%', 'max'], :]"
   ]
  },
  {
   "cell_type": "code",
   "execution_count": 118,
   "metadata": {},
   "outputs": [
    {
     "data": {
      "image/png": "[encoded data removed]",
      "text/plain": [
       "<Figure size 432x288 with 1 Axes>"
      ]
     },
     "metadata": {
      "needs_background": "light"
     },
     "output_type": "display_data"
    }
   ],
   "source": [
    "data['first_day_exposition'].hist()\n",
    "center_data['first_day_exposition'].hist()\n",
    "plt.show()"
   ]
  },
  {
   "cell_type": "markdown",
   "metadata": {},
   "source": [
    "❗️Единственный новый инсайд - подтверждение того, что этажность в центре города куда более низкая, чем по общей выборке"
   ]
  },
  {
   "cell_type": "markdown",
   "metadata": {},
   "source": [
    "# Общий вывод"
   ]
  },
  {
   "cell_type": "markdown",
   "metadata": {},
   "source": [
    "В ходе проделанной работе удалось пройти путь от предобработки данных к формированию практически-важных выводов на основе имеющегося датасета, а так же прийти к глобокому осознанию того, что если ты хочешь сэкономить на покупке жилья в Питере, то лучшим моментом будет выходной день 6 месяца 2017 года, а квартира должна быть на первом этаже, как можно дальше от центра, с низкими потолками и максимально маленькой площади. \n",
    "\\\n",
    "\\\n",
    "Ну и прочие мелкие выводы по типу того, что квартиры в центре не просто так дороже своих окраинных аналогов, условия жилья там реально круче."
   ]
  }
 ],
 "metadata": {
  "kernelspec": {
   "display_name": "Python 3",
   "language": "python",
   "name": "python3"
  },
  "language_info": {
   "codemirror_mode": {
    "name": "ipython",
    "version": 3
   },
   "file_extension": ".py",
   "mimetype": "text/x-python",
   "name": "python",
   "nbconvert_exporter": "python",
   "pygments_lexer": "ipython3",
   "version": "3.7.10"
  },
  "toc": {
   "base_numbering": 1,
   "nav_menu": {
    "height": "561px",
    "width": "434px"
   },
   "number_sections": true,
   "sideBar": true,
   "skip_h1_title": false,
   "title_cell": "Содержание",
   "title_sidebar": "Contents",
   "toc_cell": true,
   "toc_position": {
    "height": "calc(100% - 180px)",
    "left": "10px",
    "top": "150px",
    "width": "274px"
   },
   "toc_section_display": true,
   "toc_window_display": false
  }
 },
 "nbformat": 4,
 "nbformat_minor": 2
}
