{
 "cells": [
  {
   "cell_type": "markdown",
   "metadata": {
    "toc": true
   },
   "source": [
    "<h1>Содержание<span class=\"tocSkip\"></span></h1>\n",
    "<div class=\"toc\"><ul class=\"toc-item\"><li><span><a href=\"#Описание-проекта\" data-toc-modified-id=\"Описание-проекта-1\"><span class=\"toc-item-num\">1&nbsp;&nbsp;</span>Описание проекта</a></span></li><li><span><a href=\"#Ход-проекта\" data-toc-modified-id=\"Ход-проекта-2\"><span class=\"toc-item-num\">2&nbsp;&nbsp;</span>Ход проекта</a></span><ul class=\"toc-item\"><li><span><a href=\"#Импортирование-библиотек-и-знакомство-с-данными\" data-toc-modified-id=\"Импортирование-библиотек-и-знакомство-с-данными-2.1\"><span class=\"toc-item-num\">2.1&nbsp;&nbsp;</span>Импортирование библиотек и знакомство с данными</a></span></li><li><span><a href=\"#Предобработка-данных\" data-toc-modified-id=\"Предобработка-данных-2.2\"><span class=\"toc-item-num\">2.2&nbsp;&nbsp;</span>Предобработка данных</a></span></li><li><span><a href=\"#Разделение-данных\" data-toc-modified-id=\"Разделение-данных-2.3\"><span class=\"toc-item-num\">2.3&nbsp;&nbsp;</span>Разделение данных</a></span></li><li><span><a href=\"#Обучение-модели\" data-toc-modified-id=\"Обучение-модели-2.4\"><span class=\"toc-item-num\">2.4&nbsp;&nbsp;</span>Обучение модели</a></span><ul class=\"toc-item\"><li><span><a href=\"#Дерево-решений\" data-toc-modified-id=\"Дерево-решений-2.4.1\"><span class=\"toc-item-num\">2.4.1&nbsp;&nbsp;</span>Дерево решений</a></span></li><li><span><a href=\"#Случайный-лес\" data-toc-modified-id=\"Случайный-лес-2.4.2\"><span class=\"toc-item-num\">2.4.2&nbsp;&nbsp;</span>Случайный лес</a></span></li><li><span><a href=\"#Логистическая-регрессия\" data-toc-modified-id=\"Логистическая-регрессия-2.4.3\"><span class=\"toc-item-num\">2.4.3&nbsp;&nbsp;</span>Логистическая регрессия</a></span></li><li><span><a href=\"#Выбор-лучшей-модели\" data-toc-modified-id=\"Выбор-лучшей-модели-2.4.4\"><span class=\"toc-item-num\">2.4.4&nbsp;&nbsp;</span>Выбор лучшей модели</a></span></li></ul></li><li><span><a href=\"#Проверка-качества-модели-на-тестовых-данных\" data-toc-modified-id=\"Проверка-качества-модели-на-тестовых-данных-2.5\"><span class=\"toc-item-num\">2.5&nbsp;&nbsp;</span>Проверка качества модели на тестовых данных</a></span></li><li><span><a href=\"#Sanity-check\" data-toc-modified-id=\"Sanity-check-2.6\"><span class=\"toc-item-num\">2.6&nbsp;&nbsp;</span>Sanity check</a></span><ul class=\"toc-item\"><li><span><a href=\"#Сравнение-со-случайной-моделью\" data-toc-modified-id=\"Сравнение-со-случайной-моделью-2.6.1\"><span class=\"toc-item-num\">2.6.1&nbsp;&nbsp;</span>Сравнение со случайной моделью</a></span></li><li><span><a href=\"#Сравнение-с-константной-моделью\" data-toc-modified-id=\"Сравнение-с-константной-моделью-2.6.2\"><span class=\"toc-item-num\">2.6.2&nbsp;&nbsp;</span>Сравнение с константной моделью</a></span></li><li><span><a href=\"#Другие-метрики-классификации\" data-toc-modified-id=\"Другие-метрики-классификации-2.6.3\"><span class=\"toc-item-num\">2.6.3&nbsp;&nbsp;</span>Другие метрики классификации</a></span></li></ul></li></ul></li><li><span><a href=\"#Общий-вывод\" data-toc-modified-id=\"Общий-вывод-3\"><span class=\"toc-item-num\">3&nbsp;&nbsp;</span>Общий вывод</a></span></li></ul></div>"
   ]
  },
  {
   "cell_type": "markdown",
   "metadata": {},
   "source": [
    "# Описание проекта"
   ]
  },
  {
   "cell_type": "markdown",
   "metadata": {},
   "source": [
    "##### Построение системы рекомендации тарифного плана\n",
    "\n",
    "Оператор мобильной связи «Мегалайн» выяснил: многие клиенты пользуются архивными тарифами. Они хотят построить систему, способную проанализировать поведение клиентов и предложить пользователям новый тариф: «Смарт» или «Ультра».\n",
    "  \n",
    "В вашем распоряжении данные о поведении клиентов, которые уже перешли на эти тарифы. Нужно построить модель для задачи классификации, которая выберет подходящий тариф.\n",
    "  \n",
    "Постройте модель с максимально большим значением accuracy. Чтобы сдать проект успешно, нужно довести долю правильных ответов по крайней мере до 0.75."
   ]
  },
  {
   "cell_type": "markdown",
   "metadata": {},
   "source": [
    "# Ход проекта"
   ]
  },
  {
   "cell_type": "markdown",
   "metadata": {},
   "source": [
    "## Импортирование библиотек и знакомство с данными"
   ]
  },
  {
   "cell_type": "code",
   "execution_count": 1,
   "metadata": {},
   "outputs": [],
   "source": [
    "import pandas as pd\n",
    "import numpy as np\n",
    "from sklearn.model_selection import train_test_split\n",
    "from sklearn.tree import DecisionTreeClassifier\n",
    "from sklearn.ensemble import RandomForestClassifier\n",
    "from sklearn.linear_model import LogisticRegression\n",
    "from sklearn.metrics import accuracy_score\n",
    "from sklearn.metrics import precision_score\n",
    "from sklearn.metrics import recall_score\n",
    "from sklearn.metrics import f1_score\n",
    "from matplotlib import pyplot as plt\n",
    "%matplotlib inline"
   ]
  },
  {
   "cell_type": "code",
   "execution_count": 2,
   "metadata": {},
   "outputs": [],
   "source": [
    "try: \n",
    "    data = pd.read_csv('/datasets/users_behavior.csv')\n",
    "except FileNotFoundError:\n",
    "    data = pd.read_csv('users_behavior.csv')"
   ]
  },
  {
   "cell_type": "code",
   "execution_count": 3,
   "metadata": {},
   "outputs": [
    {
     "data": {
      "text/html": [
       "<div>\n",
       "<style scoped>\n",
       "    .dataframe tbody tr th:only-of-type {\n",
       "        vertical-align: middle;\n",
       "    }\n",
       "\n",
       "    .dataframe tbody tr th {\n",
       "        vertical-align: top;\n",
       "    }\n",
       "\n",
       "    .dataframe thead th {\n",
       "        text-align: right;\n",
       "    }\n",
       "</style>\n",
       "<table border=\"1\" class=\"dataframe\">\n",
       "  <thead>\n",
       "    <tr style=\"text-align: right;\">\n",
       "      <th></th>\n",
       "      <th>calls</th>\n",
       "      <th>minutes</th>\n",
       "      <th>messages</th>\n",
       "      <th>mb_used</th>\n",
       "      <th>is_ultra</th>\n",
       "    </tr>\n",
       "  </thead>\n",
       "  <tbody>\n",
       "    <tr>\n",
       "      <th>2100</th>\n",
       "      <td>22.0</td>\n",
       "      <td>173.96</td>\n",
       "      <td>14.0</td>\n",
       "      <td>24725.93</td>\n",
       "      <td>0</td>\n",
       "    </tr>\n",
       "    <tr>\n",
       "      <th>342</th>\n",
       "      <td>23.0</td>\n",
       "      <td>145.75</td>\n",
       "      <td>21.0</td>\n",
       "      <td>11655.67</td>\n",
       "      <td>0</td>\n",
       "    </tr>\n",
       "    <tr>\n",
       "      <th>2742</th>\n",
       "      <td>52.0</td>\n",
       "      <td>314.15</td>\n",
       "      <td>15.0</td>\n",
       "      <td>2450.04</td>\n",
       "      <td>1</td>\n",
       "    </tr>\n",
       "    <tr>\n",
       "      <th>2599</th>\n",
       "      <td>34.0</td>\n",
       "      <td>217.72</td>\n",
       "      <td>63.0</td>\n",
       "      <td>23026.36</td>\n",
       "      <td>0</td>\n",
       "    </tr>\n",
       "    <tr>\n",
       "      <th>1547</th>\n",
       "      <td>61.0</td>\n",
       "      <td>389.23</td>\n",
       "      <td>62.0</td>\n",
       "      <td>14661.64</td>\n",
       "      <td>0</td>\n",
       "    </tr>\n",
       "    <tr>\n",
       "      <th>1691</th>\n",
       "      <td>64.0</td>\n",
       "      <td>496.59</td>\n",
       "      <td>21.0</td>\n",
       "      <td>11136.10</td>\n",
       "      <td>0</td>\n",
       "    </tr>\n",
       "    <tr>\n",
       "      <th>366</th>\n",
       "      <td>64.0</td>\n",
       "      <td>353.85</td>\n",
       "      <td>36.0</td>\n",
       "      <td>17413.75</td>\n",
       "      <td>0</td>\n",
       "    </tr>\n",
       "    <tr>\n",
       "      <th>2275</th>\n",
       "      <td>58.0</td>\n",
       "      <td>395.81</td>\n",
       "      <td>77.0</td>\n",
       "      <td>25859.09</td>\n",
       "      <td>0</td>\n",
       "    </tr>\n",
       "    <tr>\n",
       "      <th>57</th>\n",
       "      <td>91.0</td>\n",
       "      <td>585.09</td>\n",
       "      <td>49.0</td>\n",
       "      <td>27339.85</td>\n",
       "      <td>1</td>\n",
       "    </tr>\n",
       "    <tr>\n",
       "      <th>76</th>\n",
       "      <td>73.0</td>\n",
       "      <td>633.22</td>\n",
       "      <td>21.0</td>\n",
       "      <td>18421.17</td>\n",
       "      <td>0</td>\n",
       "    </tr>\n",
       "  </tbody>\n",
       "</table>\n",
       "</div>"
      ],
      "text/plain": [
       "      calls  minutes  messages   mb_used  is_ultra\n",
       "2100   22.0   173.96      14.0  24725.93         0\n",
       "342    23.0   145.75      21.0  11655.67         0\n",
       "2742   52.0   314.15      15.0   2450.04         1\n",
       "2599   34.0   217.72      63.0  23026.36         0\n",
       "1547   61.0   389.23      62.0  14661.64         0\n",
       "1691   64.0   496.59      21.0  11136.10         0\n",
       "366    64.0   353.85      36.0  17413.75         0\n",
       "2275   58.0   395.81      77.0  25859.09         0\n",
       "57     91.0   585.09      49.0  27339.85         1\n",
       "76     73.0   633.22      21.0  18421.17         0"
      ]
     },
     "execution_count": 3,
     "metadata": {},
     "output_type": "execute_result"
    }
   ],
   "source": [
    "data.sample(10)"
   ]
  },
  {
   "cell_type": "markdown",
   "metadata": {},
   "source": [
    "## Предобработка данных"
   ]
  },
  {
   "cell_type": "markdown",
   "metadata": {},
   "source": [
    "❗️Согласно тех. заданию, предобработка данных уже была выполнена. Однако, лучше это проверить"
   ]
  },
  {
   "cell_type": "code",
   "execution_count": 4,
   "metadata": {},
   "outputs": [
    {
     "name": "stdout",
     "output_type": "stream",
     "text": [
      "<class 'pandas.core.frame.DataFrame'>\n",
      "RangeIndex: 3214 entries, 0 to 3213\n",
      "Data columns (total 5 columns):\n",
      " #   Column    Non-Null Count  Dtype  \n",
      "---  ------    --------------  -----  \n",
      " 0   calls     3214 non-null   float64\n",
      " 1   minutes   3214 non-null   float64\n",
      " 2   messages  3214 non-null   float64\n",
      " 3   mb_used   3214 non-null   float64\n",
      " 4   is_ultra  3214 non-null   int64  \n",
      "dtypes: float64(4), int64(1)\n",
      "memory usage: 125.7 KB\n"
     ]
    }
   ],
   "source": [
    "data.info()"
   ]
  },
  {
   "cell_type": "code",
   "execution_count": 5,
   "metadata": {},
   "outputs": [
    {
     "data": {
      "image/png": "[encoded data removed]",
      "text/plain": [
       "<Figure size 1152x576 with 6 Axes>"
      ]
     },
     "metadata": {
      "needs_background": "light"
     },
     "output_type": "display_data"
    }
   ],
   "source": [
    "data.hist(figsize=(16,8), bins=50)\n",
    "plt.show()"
   ]
  },
  {
   "cell_type": "code",
   "execution_count": 6,
   "metadata": {},
   "outputs": [
    {
     "data": {
      "text/plain": [
       "'Кол-во дубликатов: 0'"
      ]
     },
     "execution_count": 6,
     "metadata": {},
     "output_type": "execute_result"
    }
   ],
   "source": [
    "f'Кол-во дубликатов: {data.duplicated().sum()}'"
   ]
  },
  {
   "cell_type": "markdown",
   "metadata": {},
   "source": [
    "❗️Данные предобработаны просто изумительно!"
   ]
  },
  {
   "cell_type": "markdown",
   "metadata": {},
   "source": [
    "## Разделение данных"
   ]
  },
  {
   "cell_type": "markdown",
   "metadata": {},
   "source": [
    "❗️В качестве схемы разбиения возьмем пропорцию 3:1:1 на обучение, валидацию и тест соответсвенно"
   ]
  },
  {
   "cell_type": "code",
   "execution_count": 7,
   "metadata": {},
   "outputs": [],
   "source": [
    "features = data.drop('is_ultra', axis=1)\n",
    "target = data['is_ultra']"
   ]
  },
  {
   "cell_type": "code",
   "execution_count": 8,
   "metadata": {},
   "outputs": [],
   "source": [
    "(features_model, features_test, \n",
    "    target_model, target_test) = train_test_split(features, target, test_size=0.2, random_state=2036)"
   ]
  },
  {
   "cell_type": "code",
   "execution_count": 9,
   "metadata": {},
   "outputs": [],
   "source": [
    "(features_train, features_valid,\n",
    "    target_train, target_valid) = train_test_split(features_model, target_model, test_size=0.25, random_state=2036)"
   ]
  },
  {
   "cell_type": "code",
   "execution_count": 10,
   "metadata": {},
   "outputs": [
    {
     "name": "stdout",
     "output_type": "stream",
     "text": [
      "Размерность фич обучающей выборки: (1928, 4)\n",
      "Размерность фич валидационной выборки: (643, 4)\n",
      "Размерность фич тестовой выборки: (643, 4)\n"
     ]
    }
   ],
   "source": [
    "print(f'Размерность фич обучающей выборки: {features_train.shape}')\n",
    "print(f'Размерность фич валидационной выборки: {features_valid.shape}')\n",
    "print(f'Размерность фич тестовой выборки: {features_test.shape}')"
   ]
  },
  {
   "cell_type": "markdown",
   "metadata": {},
   "source": [
    "## Обучение модели"
   ]
  },
  {
   "cell_type": "markdown",
   "metadata": {},
   "source": [
    "Так как исходная задача относится к классу задач классификации, попробуеем обучить три модели: дерево решений, случайный лес и логистическую регрессию, чтобы выбрать наилучшую."
   ]
  },
  {
   "cell_type": "markdown",
   "metadata": {},
   "source": [
    "### Дерево решений"
   ]
  },
  {
   "cell_type": "markdown",
   "metadata": {},
   "source": [
    "❗️Выберем лучшее дерво из деревьев глубиной до 15"
   ]
  },
  {
   "cell_type": "code",
   "execution_count": 11,
   "metadata": {},
   "outputs": [],
   "source": [
    "best_tree_model = None\n",
    "best_tree_accuracy = 0\n",
    "max_depth = 15\n",
    "for depth in range(1, max_depth+1):\n",
    "    tree_model = DecisionTreeClassifier(max_depth=depth, random_state=2036)\n",
    "    tree_model.fit(features_train, target_train)\n",
    "    accuracy = tree_model.score(features_valid, target_valid)\n",
    "    \n",
    "    if accuracy > best_tree_accuracy:\n",
    "        best_tree_model = tree_model\n",
    "        best_tree_accuracy = accuracy"
   ]
  },
  {
   "cell_type": "code",
   "execution_count": 12,
   "metadata": {},
   "outputs": [
    {
     "name": "stdout",
     "output_type": "stream",
     "text": [
      "Лучшее глубина дерева: 9 с долей правильных ответов: 0.8102643856920684\n"
     ]
    }
   ],
   "source": [
    "print(f'Лучшее глубина дерева: {best_tree_model.max_depth} с долей правильных ответов: {best_tree_accuracy}')"
   ]
  },
  {
   "cell_type": "markdown",
   "metadata": {},
   "source": [
    "### Случайный лес"
   ]
  },
  {
   "cell_type": "markdown",
   "metadata": {},
   "source": [
    "❗️Выберем лучший лес максимум из 15 деревьев глубиной до 15"
   ]
  },
  {
   "cell_type": "code",
   "execution_count": 13,
   "metadata": {},
   "outputs": [],
   "source": [
    "best_forest_model = None\n",
    "best_forest_accuracy = 0\n",
    "max_estimators = 15\n",
    "max_depth = 15\n",
    "\n",
    "for est in range(1, max_estimators+1):\n",
    "    for depth in range(1, max_depth):\n",
    "        model_forest = RandomForestClassifier(n_estimators=est, max_depth=depth, random_state=2036)\n",
    "        model_forest.fit(features_train, target_train)\n",
    "        accuracy = model_forest.score(features_valid, target_valid)\n",
    "        \n",
    "        if accuracy > best_forest_accuracy:\n",
    "            best_forest_model = model_forest\n",
    "            best_forest_accuracy = accuracy"
   ]
  },
  {
   "cell_type": "code",
   "execution_count": 14,
   "metadata": {},
   "outputs": [
    {
     "name": "stdout",
     "output_type": "stream",
     "text": [
      "Лучший случайный лес из 15 деревьев с максимальной глубиной дерева 11 показал долю правильных ответов: 0.8304821150855366\n"
     ]
    }
   ],
   "source": [
    "print(f'Лучший случайный лес из {best_forest_model.n_estimators} деревьев с максимальной глубиной дерева ' + \n",
    "      f'{best_forest_model.max_depth} показал долю правильных ответов: {best_forest_accuracy}')"
   ]
  },
  {
   "cell_type": "markdown",
   "metadata": {},
   "source": [
    "### Логистическая регрессия"
   ]
  },
  {
   "cell_type": "code",
   "execution_count": 15,
   "metadata": {},
   "outputs": [
    {
     "name": "stdout",
     "output_type": "stream",
     "text": [
      "Доля правильных ответов модели логистической регрессии на валидационной выборке: 0.7169517884914464\n"
     ]
    }
   ],
   "source": [
    "model_log = LogisticRegression(random_state=2036)\n",
    "model_log.fit(features_train, target_train)\n",
    "log_accuracy = model_log.score(features_valid, target_valid)\n",
    "\n",
    "print(\"Доля правильных ответов модели логистической регрессии на валидационной выборке:\", log_accuracy)"
   ]
  },
  {
   "cell_type": "markdown",
   "metadata": {},
   "source": [
    "### Выбор лучшей модели"
   ]
  },
  {
   "cell_type": "markdown",
   "metadata": {},
   "source": [
    "❗️Выберем лучшую модель на основе их точности на валидационных данных"
   ]
  },
  {
   "cell_type": "code",
   "execution_count": 16,
   "metadata": {},
   "outputs": [
    {
     "name": "stdout",
     "output_type": "stream",
     "text": [
      "DecisionTreeClassifier: 0.8102643856920684\n",
      "RandomForestClassifier: 0.8304821150855366\n",
      "LogisticClassifier: 0.7169517884914464\n"
     ]
    }
   ],
   "source": [
    "print(f'DecisionTreeClassifier: {best_tree_accuracy}')\n",
    "print(f'RandomForestClassifier: {best_forest_accuracy}')\n",
    "print(f'LogisticClassifier: {log_accuracy}')"
   ]
  },
  {
   "cell_type": "markdown",
   "metadata": {},
   "source": [
    "❗️Логистическая регрессия не проявила себя, а вот случайный лес и дерево реешений выдали близкие и весьма неплохиее результаты. Но несмотря близость результатов, выберем случайный лес, как более точный алгоритм ввиду отсутствия нужды гнаться за оптимизацией времени работы алгоритма. В нашем случае точность важнее"
   ]
  },
  {
   "cell_type": "markdown",
   "metadata": {},
   "source": [
    "## Проверка качества модели на тестовых данных"
   ]
  },
  {
   "cell_type": "code",
   "execution_count": 17,
   "metadata": {},
   "outputs": [
    {
     "name": "stdout",
     "output_type": "stream",
     "text": [
      "Доля правильных ответов модели случайного леса на тестовой выборке: 0.8180404354587869\n"
     ]
    }
   ],
   "source": [
    "test_forest_accuracy = best_forest_model.score(features_test, target_test)\n",
    "print(\"Доля правильных ответов модели случайного леса на тестовой выборке:\", test_forest_accuracy)"
   ]
  },
  {
   "cell_type": "markdown",
   "metadata": {},
   "source": [
    "❗️Недурно, весьма недурно! И даже обошлось без переобучения (по крайней мере, ярко-выраженного)"
   ]
  },
  {
   "cell_type": "markdown",
   "metadata": {},
   "source": [
    "## Sanity check"
   ]
  },
  {
   "cell_type": "markdown",
   "metadata": {},
   "source": [
    "### Сравнение со случайной моделью"
   ]
  },
  {
   "cell_type": "markdown",
   "metadata": {},
   "source": [
    "Очевидно, что наша модель круче случайной (accuracy=0.5 < accuracy=0.81)"
   ]
  },
  {
   "cell_type": "markdown",
   "metadata": {},
   "source": [
    "### Сравнение с константной моделью"
   ]
  },
  {
   "cell_type": "code",
   "execution_count": 18,
   "metadata": {},
   "outputs": [
    {
     "name": "stdout",
     "output_type": "stream",
     "text": [
      "Доля значений нулевого класса: 0.69\n",
      "Доля значений первого класса: 0.31\n"
     ]
    }
   ],
   "source": [
    "one = data[data['is_ultra']==1].shape[0] / data.shape[0]\n",
    "zero = data[data['is_ultra']==0].shape[0] / data.shape[0]\n",
    "print('Доля значений нулевого класса: {:.2f}'.format(zero))\n",
    "print('Доля значений первого класса: {:.2f}'.format(one))"
   ]
  },
  {
   "cell_type": "markdown",
   "metadata": {},
   "source": [
    "Однако, если бы наша модель всегда выдавала бОльший класс (то бишь нулевой), accuracy такой модели было бы 0.69, но наша модель все равно выигрывает 😎"
   ]
  },
  {
   "cell_type": "markdown",
   "metadata": {},
   "source": [
    "### Другие метрики классификации"
   ]
  },
  {
   "cell_type": "code",
   "execution_count": 19,
   "metadata": {},
   "outputs": [
    {
     "name": "stdout",
     "output_type": "stream",
     "text": [
      "precision: 0.8359375\n",
      "recall: 0.5270935960591133\n",
      "f1_score: 0.6465256797583081\n"
     ]
    }
   ],
   "source": [
    "predictions = best_forest_model.predict(features_test)\n",
    "\n",
    "precision = precision_score(target_test, predictions)\n",
    "recall = recall_score(target_test, predictions)\n",
    "f1_score = f1_score(target_test, predictions)\n",
    "\n",
    "print(f'precision: {precision}')\n",
    "print(f'recall: {recall}')\n",
    "print(f'f1_score: {f1_score}')"
   ]
  },
  {
   "cell_type": "markdown",
   "metadata": {},
   "source": [
    "❗️А вот с более солидными метриками не все так радужно. Точность неплохая, но вот полнота оставляет желать лучшего. В половине случаев не предлагать пользователям тариф ultra, где это возможно, и терять часть средств - совсем непривлекатеельная идея (но по прежнему лучше констатной модели)"
   ]
  },
  {
   "cell_type": "markdown",
   "metadata": {},
   "source": [
    "# Общий вывод"
   ]
  },
  {
   "cell_type": "markdown",
   "metadata": {},
   "source": [
    "В ходе проделанной работы удалось построить несколько моделей классификации с разными гиперпараметрами и выбрать лучшую из них: случайный лес, на основе которого предлагается строить рекомендательную систему компании Мегалайн. Не все метрики качества говорят о том, что модель получилась идеальной, однако, она отрабатывает явно лучше константной и сможет принести дополнительную ценность для бизнеса"
   ]
  },
  {
   "cell_type": "code",
   "execution_count": null,
   "metadata": {},
   "outputs": [],
   "source": []
  }
 ],
 "metadata": {
  "kernelspec": {
   "display_name": "Python 3",
   "language": "python",
   "name": "python3"
  },
  "language_info": {
   "codemirror_mode": {
    "name": "ipython",
    "version": 3
   },
   "file_extension": ".py",
   "mimetype": "text/x-python",
   "name": "python",
   "nbconvert_exporter": "python",
   "pygments_lexer": "ipython3",
   "version": "3.8.5"
  },
  "toc": {
   "base_numbering": 1,
   "nav_menu": {},
   "number_sections": true,
   "sideBar": true,
   "skip_h1_title": false,
   "title_cell": "Содержание",
   "title_sidebar": "Contents",
   "toc_cell": true,
   "toc_position": {},
   "toc_section_display": true,
   "toc_window_display": false
  }
 },
 "nbformat": 4,
 "nbformat_minor": 4
}
